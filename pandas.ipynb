{
  "nbformat": 4,
  "nbformat_minor": 0,
  "metadata": {
    "colab": {
      "name": "pandas.ipynb",
      "provenance": [],
      "authorship_tag": "ABX9TyNSas1XDrejiWcn2S3Q4480",
      "include_colab_link": true
    },
    "kernelspec": {
      "name": "python3",
      "display_name": "Python 3"
    }
  },
  "cells": [
    {
      "cell_type": "markdown",
      "metadata": {
        "id": "view-in-github",
        "colab_type": "text"
      },
      "source": [
        "<a href=\"https://colab.research.google.com/github/nagendraputhane/pythonLibs/blob/master/pandas.ipynb\" target=\"_parent\"><img src=\"https://colab.research.google.com/assets/colab-badge.svg\" alt=\"Open In Colab\"/></a>"
      ]
    },
    {
      "cell_type": "code",
      "metadata": {
        "id": "2PiC3eiYxLOG",
        "colab_type": "code",
        "colab": {}
      },
      "source": [
        "import pandas as pd"
      ],
      "execution_count": 0,
      "outputs": []
    },
    {
      "cell_type": "markdown",
      "metadata": {
        "id": "OUIO2sThf_9p",
        "colab_type": "text"
      },
      "source": [
        "**DataFrame** - A DataFrame is like an in-memory 2D table. It can be viewed as like a spreadsheet, with column names and row labels.  \n",
        "**Series** - A Series object is 1D array, similar to a column in a spreadsheet, with a column name and row labels."
      ]
    },
    {
      "cell_type": "markdown",
      "metadata": {
        "id": "oP-vvsIUgvxx",
        "colab_type": "text"
      },
      "source": [
        "# Series"
      ]
    },
    {
      "cell_type": "markdown",
      "metadata": {
        "id": "hoXeCnyZg0XH",
        "colab_type": "text"
      },
      "source": [
        "Creating a series"
      ]
    },
    {
      "cell_type": "code",
      "metadata": {
        "id": "v2t8oU-jgfkY",
        "colab_type": "code",
        "colab": {
          "base_uri": "https://localhost:8080/",
          "height": 101
        },
        "outputId": "19369d24-431d-47d9-fd37-054adc5026eb"
      },
      "source": [
        "s = pd.Series([2, -1, 3, 5])\n",
        "s"
      ],
      "execution_count": 4,
      "outputs": [
        {
          "output_type": "execute_result",
          "data": {
            "text/plain": [
              "0    2\n",
              "1   -1\n",
              "2    3\n",
              "3    5\n",
              "dtype: int64"
            ]
          },
          "metadata": {
            "tags": []
          },
          "execution_count": 4
        }
      ]
    },
    {
      "cell_type": "code",
      "metadata": {
        "id": "-b_yo7-Tg8Jv",
        "colab_type": "code",
        "colab": {
          "base_uri": "https://localhost:8080/",
          "height": 101
        },
        "outputId": "886aea43-f455-4877-9e8c-394de3da542e"
      },
      "source": [
        "s + [1000, 2000, 3000, 4000] #element wise"
      ],
      "execution_count": 5,
      "outputs": [
        {
          "output_type": "execute_result",
          "data": {
            "text/plain": [
              "0    1002\n",
              "1    1999\n",
              "2    3003\n",
              "3    4005\n",
              "dtype: int64"
            ]
          },
          "metadata": {
            "tags": []
          },
          "execution_count": 5
        }
      ]
    },
    {
      "cell_type": "code",
      "metadata": {
        "id": "O19k-7qUiWYd",
        "colab_type": "code",
        "colab": {
          "base_uri": "https://localhost:8080/",
          "height": 101
        },
        "outputId": "a6974fa1-f802-44d7-f198-33671fbcb28b"
      },
      "source": [
        "s + 100 #Broadcasting"
      ],
      "execution_count": 6,
      "outputs": [
        {
          "output_type": "execute_result",
          "data": {
            "text/plain": [
              "0    102\n",
              "1     99\n",
              "2    103\n",
              "3    105\n",
              "dtype: int64"
            ]
          },
          "metadata": {
            "tags": []
          },
          "execution_count": 6
        }
      ]
    },
    {
      "cell_type": "markdown",
      "metadata": {
        "id": "PnGeQnIekysP",
        "colab_type": "text"
      },
      "source": [
        "## Index labels\n",
        "They are unique identifiers. The default value is equal to the rank of the item"
      ]
    },
    {
      "cell_type": "code",
      "metadata": {
        "id": "HrBmYS_9id6T",
        "colab_type": "code",
        "colab": {
          "base_uri": "https://localhost:8080/",
          "height": 101
        },
        "outputId": "2ab8a8c2-4fde-446a-9d2b-ffe43cbac885"
      },
      "source": [
        "s2 = pd.Series([68, 83, 112, 68], index = [\"alice\", \"bob\", \"charles\", \"darwin\"])\n",
        "s2"
      ],
      "execution_count": 9,
      "outputs": [
        {
          "output_type": "execute_result",
          "data": {
            "text/plain": [
              "alice       68\n",
              "bob         83\n",
              "charles    112\n",
              "darwin      68\n",
              "dtype: int64"
            ]
          },
          "metadata": {
            "tags": []
          },
          "execution_count": 9
        }
      ]
    },
    {
      "cell_type": "markdown",
      "metadata": {
        "id": "DSwEmIC9lr6_",
        "colab_type": "text"
      },
      "source": [
        "loc and iloc -> To make it clear when you are accessing by label or by integer location "
      ]
    },
    {
      "cell_type": "code",
      "metadata": {
        "id": "c7sddD9elEf5",
        "colab_type": "code",
        "colab": {
          "base_uri": "https://localhost:8080/",
          "height": 34
        },
        "outputId": "ad08b0c7-4197-4c29-ceb8-125a31a19cac"
      },
      "source": [
        "s2.loc[\"bob\"]"
      ],
      "execution_count": 10,
      "outputs": [
        {
          "output_type": "execute_result",
          "data": {
            "text/plain": [
              "83"
            ]
          },
          "metadata": {
            "tags": []
          },
          "execution_count": 10
        }
      ]
    },
    {
      "cell_type": "code",
      "metadata": {
        "id": "wSoUrJ5smTHO",
        "colab_type": "code",
        "colab": {
          "base_uri": "https://localhost:8080/",
          "height": 67
        },
        "outputId": "861f231e-0e2e-49cb-b578-0897c897f4d4"
      },
      "source": [
        "s2.iloc[1:3]"
      ],
      "execution_count": 11,
      "outputs": [
        {
          "output_type": "execute_result",
          "data": {
            "text/plain": [
              "bob         83\n",
              "charles    112\n",
              "dtype: int64"
            ]
          },
          "metadata": {
            "tags": []
          },
          "execution_count": 11
        }
      ]
    },
    {
      "cell_type": "markdown",
      "metadata": {
        "id": "MLvoqbcXmfbe",
        "colab_type": "text"
      },
      "source": [
        "The ambiguity that arises with numeric labels"
      ]
    },
    {
      "cell_type": "code",
      "metadata": {
        "id": "2iTt_9S1mV9c",
        "colab_type": "code",
        "colab": {
          "base_uri": "https://localhost:8080/",
          "height": 118
        },
        "outputId": "e92e0451-1cd1-4196-9bd2-54c5f00e7441"
      },
      "source": [
        "surprise = pd.Series([0, 1, 2, 3, 4])\n",
        "surprise"
      ],
      "execution_count": 21,
      "outputs": [
        {
          "output_type": "execute_result",
          "data": {
            "text/plain": [
              "0    0\n",
              "1    1\n",
              "2    2\n",
              "3    3\n",
              "4    4\n",
              "dtype: int64"
            ]
          },
          "metadata": {
            "tags": []
          },
          "execution_count": 21
        }
      ]
    },
    {
      "cell_type": "code",
      "metadata": {
        "id": "HQS38a7mmvPx",
        "colab_type": "code",
        "colab": {
          "base_uri": "https://localhost:8080/",
          "height": 84
        },
        "outputId": "973fa2ff-7f5e-4a0d-8150-4e9b786c4697"
      },
      "source": [
        "surprise_slice = surprise[2:] #the element with index 0 is absent\n",
        "surprise_slice"
      ],
      "execution_count": 22,
      "outputs": [
        {
          "output_type": "execute_result",
          "data": {
            "text/plain": [
              "2    2\n",
              "3    3\n",
              "4    4\n",
              "dtype: int64"
            ]
          },
          "metadata": {
            "tags": []
          },
          "execution_count": 22
        }
      ]
    },
    {
      "cell_type": "code",
      "metadata": {
        "id": "EbmX5kKLm6GU",
        "colab_type": "code",
        "colab": {
          "base_uri": "https://localhost:8080/",
          "height": 34
        },
        "outputId": "7d2827b1-b614-4711-e2dc-65802edbc0af"
      },
      "source": [
        "try:\n",
        "  surprise_slice[0] #trying to access first element\n",
        "except KeyError as e:\n",
        "  print(\"Key error :\", e)"
      ],
      "execution_count": 23,
      "outputs": [
        {
          "output_type": "stream",
          "text": [
            "Key error : 0\n"
          ],
          "name": "stdout"
        }
      ]
    },
    {
      "cell_type": "code",
      "metadata": {
        "id": "YjsKFH_KnH5W",
        "colab_type": "code",
        "colab": {
          "base_uri": "https://localhost:8080/",
          "height": 34
        },
        "outputId": "09b99f04-618c-4fb1-f134-a760c646ec4a"
      },
      "source": [
        "surprise_slice.iloc[0] #access integer location"
      ],
      "execution_count": 24,
      "outputs": [
        {
          "output_type": "execute_result",
          "data": {
            "text/plain": [
              "2"
            ]
          },
          "metadata": {
            "tags": []
          },
          "execution_count": 24
        }
      ]
    },
    {
      "cell_type": "code",
      "metadata": {
        "id": "w9KRKPVXnQxm",
        "colab_type": "code",
        "colab": {
          "base_uri": "https://localhost:8080/",
          "height": 84
        },
        "outputId": "77a6d460-ece0-49d0-8956-f57714041d0b"
      },
      "source": [
        "meaning = pd.Series(42, [\"life\", \"universe\", \"everything\"]) #initialize a series object with a sclar and a list of index labels\n",
        "meaning"
      ],
      "execution_count": 29,
      "outputs": [
        {
          "output_type": "execute_result",
          "data": {
            "text/plain": [
              "life          42\n",
              "universe      42\n",
              "everything    42\n",
              "dtype: int64"
            ]
          },
          "metadata": {
            "tags": []
          },
          "execution_count": 29
        }
      ]
    },
    {
      "cell_type": "markdown",
      "metadata": {
        "id": "cyshQfsFpMbN",
        "colab_type": "text"
      },
      "source": [
        "## Series name"
      ]
    },
    {
      "cell_type": "code",
      "metadata": {
        "id": "n6CrXImXpGNn",
        "colab_type": "code",
        "colab": {
          "base_uri": "https://localhost:8080/",
          "height": 67
        },
        "outputId": "ddf1d2a0-d5d1-4700-b11e-7deb8db59dbe"
      },
      "source": [
        "s6 = pd.Series([83, 68], index = [\"bob\", \"alice\"], name = \"weights\")\n",
        "s6"
      ],
      "execution_count": 26,
      "outputs": [
        {
          "output_type": "execute_result",
          "data": {
            "text/plain": [
              "bob      83\n",
              "alice    68\n",
              "Name: weights, dtype: int64"
            ]
          },
          "metadata": {
            "tags": []
          },
          "execution_count": 26
        }
      ]
    },
    {
      "cell_type": "markdown",
      "metadata": {
        "id": "pCfIv1xXpl-G",
        "colab_type": "text"
      },
      "source": [
        "## Plotting a Series"
      ]
    },
    {
      "cell_type": "code",
      "metadata": {
        "id": "4wtEeqGspZAD",
        "colab_type": "code",
        "colab": {
          "base_uri": "https://localhost:8080/",
          "height": 265
        },
        "outputId": "c5f1e102-8a25-4837-a5ef-e503ca383128"
      },
      "source": [
        "%matplotlib inline\n",
        "import matplotlib.pyplot as plt\n",
        "temperatures = [4, 6, 2, 7, 9, 6, 3, 1]\n",
        "s7 = pd.Series(temperatures, name = \"temperature\")\n",
        "s7.plot()\n",
        "plt.show()"
      ],
      "execution_count": 28,
      "outputs": [
        {
          "output_type": "display_data",
          "data": {
            "image/png": "[encoded data removed]",
            "text/plain": [
              "<Figure size 432x288 with 1 Axes>"
            ]
          },
          "metadata": {
            "tags": [],
            "needs_background": "light"
          }
        }
      ]
    },
    {
      "cell_type": "code",
      "metadata": {
        "id": "uomuEEuhqCfM",
        "colab_type": "code",
        "colab": {}
      },
      "source": [
        ""
      ],
      "execution_count": 0,
      "outputs": []
    }
  ]
}