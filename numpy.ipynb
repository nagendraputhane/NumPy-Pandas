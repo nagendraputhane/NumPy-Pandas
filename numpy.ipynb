{
  "nbformat": 4,
  "nbformat_minor": 0,
  "metadata": {
    "colab": {
      "name": "numpy.ipynb",
      "provenance": [],
      "authorship_tag": "ABX9TyOPKim8rymIreR+1O3skb4q",
      "include_colab_link": true
    },
    "kernelspec": {
      "name": "python3",
      "display_name": "Python 3"
    }
  },
  "cells": [
    {
      "cell_type": "markdown",
      "metadata": {
        "id": "view-in-github",
        "colab_type": "text"
      },
      "source": [
        "<a href=\"https://colab.research.google.com/github/nagendraputhane/pythonLibs/blob/master/numpy.ipynb\" target=\"_parent\"><img src=\"https://colab.research.google.com/assets/colab-badge.svg\" alt=\"Open In Colab\"/></a>"
      ]
    },
    {
      "cell_type": "markdown",
      "metadata": {
        "id": "pSb8rKuFgUv-",
        "colab_type": "text"
      },
      "source": [
        "# NumPy"
      ]
    },
    {
      "cell_type": "code",
      "metadata": {
        "id": "4p-qO3AOgS7N",
        "colab_type": "code",
        "colab": {}
      },
      "source": [
        "import numpy as np"
      ],
      "execution_count": 0,
      "outputs": []
    },
    {
      "cell_type": "markdown",
      "metadata": {
        "id": "FZHlSfUThIaJ",
        "colab_type": "text"
      },
      "source": [
        "## Creating arrays"
      ]
    },
    {
      "cell_type": "code",
      "metadata": {
        "id": "OFyuXxETgjOH",
        "colab_type": "code",
        "outputId": "3b76febd-95c6-4eca-b79a-156649291849",
        "colab": {
          "base_uri": "https://localhost:8080/",
          "height": 34
        }
      },
      "source": [
        "a = np.zeros(5)\n",
        "a"
      ],
      "execution_count": 0,
      "outputs": [
        {
          "output_type": "execute_result",
          "data": {
            "text/plain": [
              "array([0., 0., 0., 0., 0.])"
            ]
          },
          "metadata": {
            "tags": []
          },
          "execution_count": 2
        }
      ]
    },
    {
      "cell_type": "code",
      "metadata": {
        "id": "y2tGocsfhWQ-",
        "colab_type": "code",
        "outputId": "50d47bc9-659a-4741-804c-5ceffe7e5e21",
        "colab": {
          "base_uri": "https://localhost:8080/",
          "height": 67
        }
      },
      "source": [
        "a = np.zeros((3, 4)) #rank 2\n",
        "a"
      ],
      "execution_count": 0,
      "outputs": [
        {
          "output_type": "execute_result",
          "data": {
            "text/plain": [
              "array([[0., 0., 0., 0.],\n",
              "       [0., 0., 0., 0.],\n",
              "       [0., 0., 0., 0.]])"
            ]
          },
          "metadata": {
            "tags": []
          },
          "execution_count": 3
        }
      ]
    },
    {
      "cell_type": "code",
      "metadata": {
        "id": "4K8qW0bPhZ-E",
        "colab_type": "code",
        "outputId": "e38b677c-15ff-44be-ff76-3a90ca9bf5ee",
        "colab": {
          "base_uri": "https://localhost:8080/",
          "height": 34
        }
      },
      "source": [
        "a.shape #tuple of axis lengths"
      ],
      "execution_count": 0,
      "outputs": [
        {
          "output_type": "execute_result",
          "data": {
            "text/plain": [
              "(3, 4)"
            ]
          },
          "metadata": {
            "tags": []
          },
          "execution_count": 4
        }
      ]
    },
    {
      "cell_type": "code",
      "metadata": {
        "id": "msc4oiEPhk7L",
        "colab_type": "code",
        "outputId": "439e4937-04c1-46c2-8763-53fbc89e4c2b",
        "colab": {
          "base_uri": "https://localhost:8080/",
          "height": 34
        }
      },
      "source": [
        "a.ndim"
      ],
      "execution_count": 0,
      "outputs": [
        {
          "output_type": "execute_result",
          "data": {
            "text/plain": [
              "2"
            ]
          },
          "metadata": {
            "tags": []
          },
          "execution_count": 5
        }
      ]
    },
    {
      "cell_type": "code",
      "metadata": {
        "id": "DPk9ON5xhs8e",
        "colab_type": "code",
        "outputId": "bfdbc6a6-7b0c-4473-ed8b-2bcc80a1251b",
        "colab": {
          "base_uri": "https://localhost:8080/",
          "height": 34
        }
      },
      "source": [
        "a.size"
      ],
      "execution_count": 0,
      "outputs": [
        {
          "output_type": "execute_result",
          "data": {
            "text/plain": [
              "12"
            ]
          },
          "metadata": {
            "tags": []
          },
          "execution_count": 6
        }
      ]
    },
    {
      "cell_type": "code",
      "metadata": {
        "id": "vqcWhCbIhuP4",
        "colab_type": "code",
        "outputId": "fc2d2965-420b-4eef-84a6-ab069c9e1d16",
        "colab": {
          "base_uri": "https://localhost:8080/",
          "height": 134
        }
      },
      "source": [
        "a = np.zeros((2, 3, 4)) #3D array\n",
        "a"
      ],
      "execution_count": 0,
      "outputs": [
        {
          "output_type": "execute_result",
          "data": {
            "text/plain": [
              "array([[[0., 0., 0., 0.],\n",
              "        [0., 0., 0., 0.],\n",
              "        [0., 0., 0., 0.]],\n",
              "\n",
              "       [[0., 0., 0., 0.],\n",
              "        [0., 0., 0., 0.],\n",
              "        [0., 0., 0., 0.]]])"
            ]
          },
          "metadata": {
            "tags": []
          },
          "execution_count": 8
        }
      ]
    },
    {
      "cell_type": "code",
      "metadata": {
        "id": "hBGt9b2CiEVI",
        "colab_type": "code",
        "outputId": "74a4b8b5-de6e-4151-fe0e-f9e9dd90f21f",
        "colab": {
          "base_uri": "https://localhost:8080/",
          "height": 34
        }
      },
      "source": [
        "type(a)"
      ],
      "execution_count": 0,
      "outputs": [
        {
          "output_type": "execute_result",
          "data": {
            "text/plain": [
              "numpy.ndarray"
            ]
          },
          "metadata": {
            "tags": []
          },
          "execution_count": 9
        }
      ]
    },
    {
      "cell_type": "code",
      "metadata": {
        "id": "06Irp-wqjUWY",
        "colab_type": "code",
        "outputId": "26e254af-9d8b-423e-ca87-078a8272fce1",
        "colab": {
          "base_uri": "https://localhost:8080/",
          "height": 50
        }
      },
      "source": [
        "np.ones((2, 3))"
      ],
      "execution_count": 0,
      "outputs": [
        {
          "output_type": "execute_result",
          "data": {
            "text/plain": [
              "array([[1., 1., 1.],\n",
              "       [1., 1., 1.]])"
            ]
          },
          "metadata": {
            "tags": []
          },
          "execution_count": 10
        }
      ]
    },
    {
      "cell_type": "code",
      "metadata": {
        "id": "ibTr-kq4kUqX",
        "colab_type": "code",
        "outputId": "9e2093f7-eb70-4a51-c095-570953d95416",
        "colab": {
          "base_uri": "https://localhost:8080/",
          "height": 67
        }
      },
      "source": [
        "np.full((3, 4), np.pi) #initializes ndarray"
      ],
      "execution_count": 0,
      "outputs": [
        {
          "output_type": "execute_result",
          "data": {
            "text/plain": [
              "array([[3.14159265, 3.14159265, 3.14159265, 3.14159265],\n",
              "       [3.14159265, 3.14159265, 3.14159265, 3.14159265],\n",
              "       [3.14159265, 3.14159265, 3.14159265, 3.14159265]])"
            ]
          },
          "metadata": {
            "tags": []
          },
          "execution_count": 11
        }
      ]
    },
    {
      "cell_type": "code",
      "metadata": {
        "id": "5YU4yUxJkZnY",
        "colab_type": "code",
        "outputId": "72b5c542-340c-4da1-eadd-27acef419db3",
        "colab": {
          "base_uri": "https://localhost:8080/",
          "height": 50
        }
      },
      "source": [
        "np.empty((2, 3)) #uninitialized"
      ],
      "execution_count": 0,
      "outputs": [
        {
          "output_type": "execute_result",
          "data": {
            "text/plain": [
              "array([[1., 1., 1.],\n",
              "       [1., 1., 1.]])"
            ]
          },
          "metadata": {
            "tags": []
          },
          "execution_count": 12
        }
      ]
    },
    {
      "cell_type": "code",
      "metadata": {
        "id": "SUnj3izUkcEy",
        "colab_type": "code",
        "outputId": "2b1a8512-7956-43f7-b42f-021d9009220f",
        "colab": {
          "base_uri": "https://localhost:8080/",
          "height": 50
        }
      },
      "source": [
        "np.array([[1, 2], [10, 20]]) #using python array"
      ],
      "execution_count": 0,
      "outputs": [
        {
          "output_type": "execute_result",
          "data": {
            "text/plain": [
              "array([[ 1,  2],\n",
              "       [10, 20]])"
            ]
          },
          "metadata": {
            "tags": []
          },
          "execution_count": 17
        }
      ]
    },
    {
      "cell_type": "markdown",
      "metadata": {
        "id": "c0PH0YyFnEn5",
        "colab_type": "text"
      },
      "source": [
        "range function"
      ]
    },
    {
      "cell_type": "code",
      "metadata": {
        "id": "xLmi5_jukksR",
        "colab_type": "code",
        "outputId": "a3eec259-b8da-49b2-e6a0-30ec6c9d2145",
        "colab": {
          "base_uri": "https://localhost:8080/",
          "height": 34
        }
      },
      "source": [
        "np.arange(5)"
      ],
      "execution_count": 0,
      "outputs": [
        {
          "output_type": "execute_result",
          "data": {
            "text/plain": [
              "array([0, 1, 2, 3, 4])"
            ]
          },
          "metadata": {
            "tags": []
          },
          "execution_count": 18
        }
      ]
    },
    {
      "cell_type": "code",
      "metadata": {
        "id": "edvvZQYxmyKF",
        "colab_type": "code",
        "outputId": "8c2fbeef-5d9c-49d3-c0c8-e313aa222289",
        "colab": {
          "base_uri": "https://localhost:8080/",
          "height": 34
        }
      },
      "source": [
        "np.arange(1, 5)"
      ],
      "execution_count": 0,
      "outputs": [
        {
          "output_type": "execute_result",
          "data": {
            "text/plain": [
              "array([1, 2, 3, 4])"
            ]
          },
          "metadata": {
            "tags": []
          },
          "execution_count": 19
        }
      ]
    },
    {
      "cell_type": "code",
      "metadata": {
        "id": "TzgKS8FZm2EE",
        "colab_type": "code",
        "outputId": "d28a21f9-93e3-4693-9cb6-fd0fa1e79d30",
        "colab": {
          "base_uri": "https://localhost:8080/",
          "height": 34
        }
      },
      "source": [
        "np.arange(1.0, 5.0, .5) #with floats and step parameter"
      ],
      "execution_count": 0,
      "outputs": [
        {
          "output_type": "execute_result",
          "data": {
            "text/plain": [
              "array([1. , 1.5, 2. , 2.5, 3. , 3.5, 4. , 4.5])"
            ]
          },
          "metadata": {
            "tags": []
          },
          "execution_count": 20
        }
      ]
    },
    {
      "cell_type": "markdown",
      "metadata": {
        "id": "N0AzepRnnw4N",
        "colab_type": "text"
      },
      "source": [
        "linspace function - evenly spaced samples"
      ]
    },
    {
      "cell_type": "code",
      "metadata": {
        "id": "1c-W_tmJm8HT",
        "colab_type": "code",
        "outputId": "323f2189-aca1-4225-ff72-ec52f7ad8d27",
        "colab": {
          "base_uri": "https://localhost:8080/",
          "height": 34
        }
      },
      "source": [
        "print(np.arange(0, 5/3, 0.333333334))"
      ],
      "execution_count": 0,
      "outputs": [
        {
          "output_type": "stream",
          "text": [
            "[0.         0.33333333 0.66666667 1.         1.33333334]\n"
          ],
          "name": "stdout"
        }
      ]
    },
    {
      "cell_type": "code",
      "metadata": {
        "id": "fIY1IWV6oM8r",
        "colab_type": "code",
        "outputId": "df97b6fb-8a05-4093-a574-76d616422c9f",
        "colab": {
          "base_uri": "https://localhost:8080/",
          "height": 34
        }
      },
      "source": [
        "print(np.linspace(0, 5/3, 6))"
      ],
      "execution_count": 0,
      "outputs": [
        {
          "output_type": "stream",
          "text": [
            "[0.         0.33333333 0.66666667 1.         1.33333333 1.66666667]\n"
          ],
          "name": "stdout"
        }
      ]
    },
    {
      "cell_type": "markdown",
      "metadata": {
        "id": "Q_Nzg058p-Z5",
        "colab_type": "text"
      },
      "source": [
        "rand and randn - initialize with random values."
      ]
    },
    {
      "cell_type": "code",
      "metadata": {
        "id": "u8gTLdj_oguF",
        "colab_type": "code",
        "outputId": "30ee5f18-5b04-45e8-8e0e-76c16558d6ae",
        "colab": {
          "base_uri": "https://localhost:8080/",
          "height": 67
        }
      },
      "source": [
        "np.random.rand(3, 4) #random floates between 0 and 1"
      ],
      "execution_count": 0,
      "outputs": [
        {
          "output_type": "execute_result",
          "data": {
            "text/plain": [
              "array([[0.59484529, 0.32434166, 0.47216913, 0.73512397],\n",
              "       [0.86818929, 0.7759155 , 0.22275842, 0.86999631],\n",
              "       [0.85124565, 0.0577755 , 0.05130526, 0.08085722]])"
            ]
          },
          "metadata": {
            "tags": []
          },
          "execution_count": 29
        }
      ]
    },
    {
      "cell_type": "code",
      "metadata": {
        "id": "i90GqkTdrdAG",
        "colab_type": "code",
        "outputId": "240abc5a-2d36-40a6-b285-d52e24e3c9f2",
        "colab": {
          "base_uri": "https://localhost:8080/",
          "height": 67
        }
      },
      "source": [
        "np.random.randn(3, 4) #random floates sampled from a univariate normal distribution (symmetric about the mean) of mean 0 and variance 1"
      ],
      "execution_count": 0,
      "outputs": [
        {
          "output_type": "execute_result",
          "data": {
            "text/plain": [
              "array([[-0.21114455,  1.52311574,  1.35810813,  1.82231431],\n",
              "       [-0.35615656,  1.6142434 , -0.81112821,  1.89170834],\n",
              "       [-1.34582461,  0.93988355,  0.45218832, -1.90476911]])"
            ]
          },
          "metadata": {
            "tags": []
          },
          "execution_count": 31
        }
      ]
    },
    {
      "cell_type": "code",
      "metadata": {
        "id": "Bgq0ROZ5rgIL",
        "colab_type": "code",
        "outputId": "206fb7f1-136f-49b4-9790-f37b05067649",
        "colab": {
          "base_uri": "https://localhost:8080/",
          "height": 295
        }
      },
      "source": [
        "%matplotlib inline\n",
        "import matplotlib.pyplot as plt\n",
        "plt.hist(np.random.rand(100000), density=True, bins=100, histtype=\"step\", color=\"blue\", label=\"rand\")\n",
        "plt.hist(np.random.randn(100000), density=True, bins=100, histtype=\"step\", color=\"red\", label=\"randn\")\n",
        "plt.axis([-2.5, 2.5, 0, 1.1])\n",
        "plt.legend(loc = \"upper left\")\n",
        "plt.title(\"Random distributions\")\n",
        "plt.xlabel(\"Value\")\n",
        "plt.ylabel(\"Density\")\n",
        "plt.show()"
      ],
      "execution_count": 0,
      "outputs": [
        {
          "output_type": "display_data",
          "data": {
            "image/png": "[encoded data removed]",
            "text/plain": [
              "<Figure size 432x288 with 1 Axes>"
            ]
          },
          "metadata": {
            "tags": [],
            "needs_background": "light"
          }
        }
      ]
    },
    {
      "cell_type": "markdown",
      "metadata": {
        "id": "O9cHN7Tftqqa",
        "colab_type": "text"
      },
      "source": [
        "fromfunction - initialize an ndarray using a function"
      ]
    },
    {
      "cell_type": "code",
      "metadata": {
        "id": "tHlL1bQsr2pt",
        "colab_type": "code",
        "outputId": "0d536a2e-cf40-4317-9e65-f6b56eb2d6cf",
        "colab": {
          "base_uri": "https://localhost:8080/",
          "height": 50
        }
      },
      "source": [
        "def my_function(x, y):\n",
        "    return x*y\n",
        "\n",
        "np.fromfunction(my_function, (2, 2))"
      ],
      "execution_count": 0,
      "outputs": [
        {
          "output_type": "execute_result",
          "data": {
            "text/plain": [
              "array([[0., 0.],\n",
              "       [1., 1.]])"
            ]
          },
          "metadata": {
            "tags": []
          },
          "execution_count": 35
        }
      ]
    },
    {
      "cell_type": "markdown",
      "metadata": {
        "id": "0Ya_V0H8zIRr",
        "colab_type": "text"
      },
      "source": [
        "## Array data"
      ]
    },
    {
      "cell_type": "code",
      "metadata": {
        "id": "Bn6_uUuqzh0m",
        "colab_type": "code",
        "outputId": "d089f2c5-9618-4178-fd55-62e6e7c67ce2",
        "colab": {
          "base_uri": "https://localhost:8080/",
          "height": 67
        }
      },
      "source": [
        "c = np.arange(5, dtype = np.float64) #set data type explicitly\n",
        "print(c)\n",
        "print(c.dtype) #data type\n",
        "print(c.itemsize) #size of each item"
      ],
      "execution_count": 0,
      "outputs": [
        {
          "output_type": "stream",
          "text": [
            "[0. 1. 2. 3. 4.]\n",
            "float64\n",
            "8\n"
          ],
          "name": "stdout"
        }
      ]
    },
    {
      "cell_type": "markdown",
      "metadata": {
        "id": "1r8VJlzf4whr",
        "colab_type": "text"
      },
      "source": [
        "## Reshaping an array"
      ]
    },
    {
      "cell_type": "code",
      "metadata": {
        "id": "hndXcwv70w8i",
        "colab_type": "code",
        "outputId": "a21b4dd2-89f8-4d93-e607-311a9b583c1a",
        "colab": {
          "base_uri": "https://localhost:8080/",
          "height": 50
        }
      },
      "source": [
        "g = np.arange(24)\n",
        "print(g)\n",
        "print(\"Rank :\", g.ndim)"
      ],
      "execution_count": 0,
      "outputs": [
        {
          "output_type": "stream",
          "text": [
            "[ 0  1  2  3  4  5  6  7  8  9 10 11 12 13 14 15 16 17 18 19 20 21 22 23]\n",
            "Rank : 1\n"
          ],
          "name": "stdout"
        }
      ]
    },
    {
      "cell_type": "code",
      "metadata": {
        "id": "5YbuERcG4-it",
        "colab_type": "code",
        "outputId": "60ca7590-824b-4ee9-d411-369045b80334",
        "colab": {
          "base_uri": "https://localhost:8080/",
          "height": 151
        }
      },
      "source": [
        "g.shape = (2, 3, 4) #In place (array's size must remain the same)\n",
        "print(g)\n",
        "print(\"Rank :\", g.ndim)"
      ],
      "execution_count": 0,
      "outputs": [
        {
          "output_type": "stream",
          "text": [
            "[[[ 0  1  2  3]\n",
            "  [ 4  5  6  7]\n",
            "  [ 8  9 10 11]]\n",
            "\n",
            " [[12 13 14 15]\n",
            "  [16 17 18 19]\n",
            "  [20 21 22 23]]]\n",
            "Rank : 3\n"
          ],
          "name": "stdout"
        }
      ]
    },
    {
      "cell_type": "code",
      "metadata": {
        "id": "nKTRY4Pu5HKz",
        "colab_type": "code",
        "outputId": "a2ac1994-28bd-4de4-99a4-7aaf2751c29a",
        "colab": {
          "base_uri": "https://localhost:8080/",
          "height": 202
        }
      },
      "source": [
        "g2 = g.reshape(4, 6) #returns ndarray object pointing at the saame data\n",
        "g2[1, 2] = 999\n",
        "print(g, \"\\n\", g2)"
      ],
      "execution_count": 0,
      "outputs": [
        {
          "output_type": "stream",
          "text": [
            "[[[  0   1   2   3]\n",
            "  [  4   5 999   7]\n",
            "  [999   9  10  11]]\n",
            "\n",
            " [[ 12  13  14  15]\n",
            "  [ 16  17  18  19]\n",
            "  [ 20  21  22  23]]] \n",
            " [[  0   1   2   3   4   5]\n",
            " [999   7 999   9  10  11]\n",
            " [ 12  13  14  15  16  17]\n",
            " [ 18  19  20  21  22  23]]\n"
          ],
          "name": "stdout"
        }
      ]
    },
    {
      "cell_type": "code",
      "metadata": {
        "id": "5VPW5wKC6WPq",
        "colab_type": "code",
        "outputId": "d0435e6a-e6eb-459b-a191-38b6976c07bf",
        "colab": {
          "base_uri": "https://localhost:8080/",
          "height": 50
        }
      },
      "source": [
        "g2.ravel() #returns 1D ndarray that points to the same data"
      ],
      "execution_count": 0,
      "outputs": [
        {
          "output_type": "execute_result",
          "data": {
            "text/plain": [
              "array([  0,   1,   2,   3,   4,   5, 999,   7, 999,   9,  10,  11,  12,\n",
              "        13,  14,  15,  16,  17,  18,  19,  20,  21,  22,  23])"
            ]
          },
          "metadata": {
            "tags": []
          },
          "execution_count": 53
        }
      ]
    },
    {
      "cell_type": "markdown",
      "metadata": {
        "id": "yQGlznV38NBo",
        "colab_type": "text"
      },
      "source": [
        "## Arithmetic operations\n",
        "- arithmetic operators - +, -, /, *, %, etc.."
      ]
    },
    {
      "cell_type": "code",
      "metadata": {
        "id": "99GVBV1T6-n4",
        "colab_type": "code",
        "outputId": "691a4f0c-658c-45b8-ba6f-67d01de4b4b6",
        "colab": {
          "base_uri": "https://localhost:8080/",
          "height": 34
        }
      },
      "source": [
        "a = np.array([10, 20])\n",
        "b = np.array([2, 3])\n",
        "print(a*b) #* is not matrix multiplication"
      ],
      "execution_count": 0,
      "outputs": [
        {
          "output_type": "stream",
          "text": [
            "[20 60]\n"
          ],
          "name": "stdout"
        }
      ]
    },
    {
      "cell_type": "markdown",
      "metadata": {
        "id": "6xp5jBYUQHFy",
        "colab_type": "text"
      },
      "source": [
        "## Broadcasting\n",
        "When numpy doesnt get some shape array, it applies broadcasting rules. If the arrays do not have the same rank, then a 1 will be prepended to the smaller ranking arrays until their ranks match."
      ]
    },
    {
      "cell_type": "code",
      "metadata": {
        "id": "UTWKs-HN8wBb",
        "colab_type": "code",
        "outputId": "608e3676-c3a7-4f6d-8c5f-2c7960de8777",
        "colab": {
          "base_uri": "https://localhost:8080/",
          "height": 50
        }
      },
      "source": [
        "h = np.arange(6).reshape(2, 3)\n",
        "print(h.shape, h)"
      ],
      "execution_count": 0,
      "outputs": [
        {
          "output_type": "stream",
          "text": [
            "(2, 3) [[0 1 2]\n",
            " [3 4 5]]\n"
          ],
          "name": "stdout"
        }
      ]
    },
    {
      "cell_type": "code",
      "metadata": {
        "id": "dbbhWrngQxFI",
        "colab_type": "code",
        "outputId": "a9139692-83fa-4690-cf9e-dd56a493f202",
        "colab": {
          "base_uri": "https://localhost:8080/",
          "height": 34
        }
      },
      "source": [
        "i = np.arange(3)\n",
        "print(i.shape, i)"
      ],
      "execution_count": 0,
      "outputs": [
        {
          "output_type": "stream",
          "text": [
            "(3,) [0 1 2]\n"
          ],
          "name": "stdout"
        }
      ]
    },
    {
      "cell_type": "code",
      "metadata": {
        "id": "OOQk6YDXRLPr",
        "colab_type": "code",
        "outputId": "38e6fcd6-956f-4ad7-e6ec-cb3014598633",
        "colab": {
          "base_uri": "https://localhost:8080/",
          "height": 50
        }
      },
      "source": [
        "j = h + i\n",
        "print(j.shape, j)"
      ],
      "execution_count": 0,
      "outputs": [
        {
          "output_type": "stream",
          "text": [
            "(2, 3) [[0 2 4]\n",
            " [3 5 7]]\n"
          ],
          "name": "stdout"
        }
      ]
    },
    {
      "cell_type": "markdown",
      "metadata": {
        "id": "q3FD7t6LRfYI",
        "colab_type": "text"
      },
      "source": [
        "Upcasting - When combinig arrays with different dtypes, MunPy will upcast."
      ]
    },
    {
      "cell_type": "code",
      "metadata": {
        "id": "z57JTpU3RSEL",
        "colab_type": "code",
        "outputId": "acd29cf1-d6b5-4ca0-e3ed-6903948e5d01",
        "colab": {
          "base_uri": "https://localhost:8080/",
          "height": 34
        }
      },
      "source": [
        "h = np.arange(5)\n",
        "i = np.arange(5, dtype=float)\n",
        "j = h + i\n",
        "print(j.dtype)"
      ],
      "execution_count": 0,
      "outputs": [
        {
          "output_type": "stream",
          "text": [
            "float64\n"
          ],
          "name": "stdout"
        }
      ]
    },
    {
      "cell_type": "markdown",
      "metadata": {
        "id": "RMEXO21PSnn_",
        "colab_type": "text"
      },
      "source": [
        "Conditional operators : applied elementwise"
      ]
    },
    {
      "cell_type": "code",
      "metadata": {
        "id": "VAht4Vk_R-Fv",
        "colab_type": "code",
        "outputId": "2743e193-edc8-40d6-c662-c1d0b2ee6aaa",
        "colab": {
          "base_uri": "https://localhost:8080/",
          "height": 34
        }
      },
      "source": [
        "m = np.array([0, 1, 2, 3, 4, 5])\n",
        "m < [2, 2, 2, 2, 2, 2]"
      ],
      "execution_count": 0,
      "outputs": [
        {
          "output_type": "execute_result",
          "data": {
            "text/plain": [
              "array([ True,  True, False, False, False, False])"
            ]
          },
          "metadata": {
            "tags": []
          },
          "execution_count": 9
        }
      ]
    },
    {
      "cell_type": "code",
      "metadata": {
        "id": "OEYBwy95S5O5",
        "colab_type": "code",
        "outputId": "bfe7f08d-6e01-44be-cbbc-428cf9f6059a",
        "colab": {
          "base_uri": "https://localhost:8080/",
          "height": 34
        }
      },
      "source": [
        "m < 25"
      ],
      "execution_count": 0,
      "outputs": [
        {
          "output_type": "execute_result",
          "data": {
            "text/plain": [
              "array([ True,  True,  True,  True,  True,  True])"
            ]
          },
          "metadata": {
            "tags": []
          },
          "execution_count": 10
        }
      ]
    },
    {
      "cell_type": "code",
      "metadata": {
        "id": "aiBKGTNnS7aX",
        "colab_type": "code",
        "outputId": "bddf9d36-9741-4144-849f-f1dff1d76222",
        "colab": {
          "base_uri": "https://localhost:8080/",
          "height": 34
        }
      },
      "source": [
        "m[m<3] #boolean indexing"
      ],
      "execution_count": 0,
      "outputs": [
        {
          "output_type": "execute_result",
          "data": {
            "text/plain": [
              "array([0, 1, 2])"
            ]
          },
          "metadata": {
            "tags": []
          },
          "execution_count": 12
        }
      ]
    },
    {
      "cell_type": "markdown",
      "metadata": {
        "id": "cY3flZY4EUVZ",
        "colab_type": "text"
      },
      "source": [
        "## Mathematical and statistical functions\n"
      ]
    },
    {
      "cell_type": "code",
      "metadata": {
        "id": "gKAFoQXoTHC6",
        "colab_type": "code",
        "outputId": "48fb655b-c003-454a-f04b-67580f82af04",
        "colab": {
          "base_uri": "https://localhost:8080/",
          "height": 118
        }
      },
      "source": [
        "a = np.array([[-2.5, 3.1, 7], [10, 11, 12]])\n",
        "for func in (a.min, a.max, a.sum, a.prod, a.std, a.var):\n",
        "  print(func.__name__, \"=\", func())"
      ],
      "execution_count": 0,
      "outputs": [
        {
          "output_type": "stream",
          "text": [
            "min = -2.5\n",
            "max = 12.0\n",
            "sum = 40.6\n",
            "prod = -71610.0\n",
            "std = 5.084835843520964\n",
            "var = 25.855555555555554\n"
          ],
          "name": "stdout"
        }
      ]
    },
    {
      "cell_type": "code",
      "metadata": {
        "id": "iPDDqtMWHIEt",
        "colab_type": "code",
        "outputId": "176fa92f-d395-4793-db86-200d9f556f0d",
        "colab": {
          "base_uri": "https://localhost:8080/",
          "height": 50
        }
      },
      "source": [
        "c = np.arange(6).reshape(2, 3)\n",
        "c"
      ],
      "execution_count": 0,
      "outputs": [
        {
          "output_type": "execute_result",
          "data": {
            "text/plain": [
              "array([[0, 1, 2],\n",
              "       [3, 4, 5]])"
            ]
          },
          "metadata": {
            "tags": []
          },
          "execution_count": 14
        }
      ]
    },
    {
      "cell_type": "code",
      "metadata": {
        "id": "1SnUg14dIdra",
        "colab_type": "code",
        "outputId": "0cbb1c5f-aa44-46e4-8f65-929a0701cf8b",
        "colab": {
          "base_uri": "https://localhost:8080/",
          "height": 34
        }
      },
      "source": [
        "c.sum(axis = 0) #sum across rows"
      ],
      "execution_count": 0,
      "outputs": [
        {
          "output_type": "execute_result",
          "data": {
            "text/plain": [
              "array([3, 5, 7])"
            ]
          },
          "metadata": {
            "tags": []
          },
          "execution_count": 16
        }
      ]
    },
    {
      "cell_type": "code",
      "metadata": {
        "id": "tYGJ1LtWK_yd",
        "colab_type": "code",
        "outputId": "04ec94f1-6c45-4180-ec30-ee91edf0f67f",
        "colab": {
          "base_uri": "https://localhost:8080/",
          "height": 34
        }
      },
      "source": [
        "c.sum(axis = 1) #sum across columns"
      ],
      "execution_count": 0,
      "outputs": [
        {
          "output_type": "execute_result",
          "data": {
            "text/plain": [
              "array([ 3, 12])"
            ]
          },
          "metadata": {
            "tags": []
          },
          "execution_count": 17
        }
      ]
    },
    {
      "cell_type": "code",
      "metadata": {
        "id": "k5IV5g0oUZ_d",
        "colab_type": "code",
        "outputId": "2cb6dab0-ab09-440a-d36d-724d6c507f5f",
        "colab": {
          "base_uri": "https://localhost:8080/",
          "height": 34
        }
      },
      "source": [
        "c.sum(axis = (0,1))"
      ],
      "execution_count": 0,
      "outputs": [
        {
          "output_type": "execute_result",
          "data": {
            "text/plain": [
              "15"
            ]
          },
          "metadata": {
            "tags": []
          },
          "execution_count": 18
        }
      ]
    },
    {
      "cell_type": "markdown",
      "metadata": {
        "id": "izMq8Nd0UxdR",
        "colab_type": "text"
      },
      "source": [
        "## Universal functions"
      ]
    },
    {
      "cell_type": "code",
      "metadata": {
        "id": "UWLl35H9Uhwd",
        "colab_type": "code",
        "outputId": "d8e8bf0c-d6f8-4818-fdfc-439fac9bbd2a",
        "colab": {
          "base_uri": "https://localhost:8080/",
          "height": 574
        }
      },
      "source": [
        "a = np.arange(6).reshape(2, 3)\n",
        "print(a)\n",
        "for func in (np.abs, np.sqrt, np.exp, np.log, np.sign, np.ceil, np.modf, \n",
        "             np.isnan, np.cos):\n",
        "  print(func.__name__, \"\\n\", func(a))"
      ],
      "execution_count": 0,
      "outputs": [
        {
          "output_type": "stream",
          "text": [
            "[[0 1 2]\n",
            " [3 4 5]]\n",
            "absolute \n",
            " [[0 1 2]\n",
            " [3 4 5]]\n",
            "sqrt \n",
            " [[0.         1.         1.41421356]\n",
            " [1.73205081 2.         2.23606798]]\n",
            "exp \n",
            " [[  1.           2.71828183   7.3890561 ]\n",
            " [ 20.08553692  54.59815003 148.4131591 ]]\n",
            "log \n",
            " [[      -inf 0.         0.69314718]\n",
            " [1.09861229 1.38629436 1.60943791]]\n",
            "sign \n",
            " [[0 1 1]\n",
            " [1 1 1]]\n",
            "ceil \n",
            " [[0. 1. 2.]\n",
            " [3. 4. 5.]]\n",
            "modf \n",
            " (array([[0., 0., 0.],\n",
            "       [0., 0., 0.]]), array([[0., 1., 2.],\n",
            "       [3., 4., 5.]]))\n",
            "isnan \n",
            " [[False False False]\n",
            " [False False False]]\n",
            "cos \n",
            " [[ 1.          0.54030231 -0.41614684]\n",
            " [-0.9899925  -0.65364362  0.28366219]]\n"
          ],
          "name": "stdout"
        },
        {
          "output_type": "stream",
          "text": [
            "/usr/local/lib/python3.6/dist-packages/ipykernel_launcher.py:5: RuntimeWarning: divide by zero encountered in log\n",
            "  \"\"\"\n"
          ],
          "name": "stderr"
        }
      ]
    },
    {
      "cell_type": "markdown",
      "metadata": {
        "id": "MmKVIqc4eGjQ",
        "colab_type": "text"
      },
      "source": [
        "Binary ufuncs"
      ]
    },
    {
      "cell_type": "code",
      "metadata": {
        "id": "Vne3PjTqXxor",
        "colab_type": "code",
        "outputId": "4130f372-4381-41b3-c958-78a9fabf7ffb",
        "colab": {
          "base_uri": "https://localhost:8080/",
          "height": 34
        }
      },
      "source": [
        "a = np.array([1, -2, 3, 4])\n",
        "b = np.array([2, 8, -1, 7])\n",
        "np.add(a, b)"
      ],
      "execution_count": 0,
      "outputs": [
        {
          "output_type": "execute_result",
          "data": {
            "text/plain": [
              "array([ 3,  6,  2, 11])"
            ]
          },
          "metadata": {
            "tags": []
          },
          "execution_count": 27
        }
      ]
    },
    {
      "cell_type": "code",
      "metadata": {
        "id": "wwMY5zxLd4j0",
        "colab_type": "code",
        "outputId": "d3cf4701-4ee8-4cdf-b6ce-df0d30dbcbdf",
        "colab": {
          "base_uri": "https://localhost:8080/",
          "height": 34
        }
      },
      "source": [
        "np.greater(a, b)"
      ],
      "execution_count": 0,
      "outputs": [
        {
          "output_type": "execute_result",
          "data": {
            "text/plain": [
              "array([False, False,  True, False])"
            ]
          },
          "metadata": {
            "tags": []
          },
          "execution_count": 28
        }
      ]
    },
    {
      "cell_type": "code",
      "metadata": {
        "id": "U7uqvVSad7Ji",
        "colab_type": "code",
        "outputId": "9ee9b9bb-d480-49fc-9cd4-eed3fedebf87",
        "colab": {
          "base_uri": "https://localhost:8080/",
          "height": 34
        }
      },
      "source": [
        "np.maximum(a, b)"
      ],
      "execution_count": 0,
      "outputs": [
        {
          "output_type": "execute_result",
          "data": {
            "text/plain": [
              "array([2, 8, 3, 7])"
            ]
          },
          "metadata": {
            "tags": []
          },
          "execution_count": 29
        }
      ]
    },
    {
      "cell_type": "markdown",
      "metadata": {
        "id": "bAKUZFlYEXa7",
        "colab_type": "text"
      },
      "source": [
        "## Array Indexing"
      ]
    },
    {
      "cell_type": "markdown",
      "metadata": {
        "id": "-Z3UT68aGeXy",
        "colab_type": "text"
      },
      "source": [
        "### One-dimensional arrays"
      ]
    },
    {
      "cell_type": "code",
      "metadata": {
        "id": "LADYlOmieB_w",
        "colab_type": "code",
        "colab": {
          "base_uri": "https://localhost:8080/",
          "height": 34
        },
        "outputId": "4388b302-85d0-4971-d6ba-ed0f00681159"
      },
      "source": [
        "a = np.array([1, 8, 3, 9, 2, 4, 18])\n",
        "a[3]"
      ],
      "execution_count": 2,
      "outputs": [
        {
          "output_type": "execute_result",
          "data": {
            "text/plain": [
              "9"
            ]
          },
          "metadata": {
            "tags": []
          },
          "execution_count": 2
        }
      ]
    },
    {
      "cell_type": "code",
      "metadata": {
        "id": "h7IQHty1Fl4M",
        "colab_type": "code",
        "colab": {
          "base_uri": "https://localhost:8080/",
          "height": 34
        },
        "outputId": "26ffabb7-8d1a-42d0-b4a4-0cb2b5fce59a"
      },
      "source": [
        "a[2:5]"
      ],
      "execution_count": 3,
      "outputs": [
        {
          "output_type": "execute_result",
          "data": {
            "text/plain": [
              "array([3, 9, 2])"
            ]
          },
          "metadata": {
            "tags": []
          },
          "execution_count": 3
        }
      ]
    },
    {
      "cell_type": "code",
      "metadata": {
        "id": "riAtV_2MFnx3",
        "colab_type": "code",
        "colab": {
          "base_uri": "https://localhost:8080/",
          "height": 34
        },
        "outputId": "6ed9dd29-ca00-4be8-d4ed-a8464c5fc592"
      },
      "source": [
        "a[2:-1] #doesn't consider the last element"
      ],
      "execution_count": 4,
      "outputs": [
        {
          "output_type": "execute_result",
          "data": {
            "text/plain": [
              "array([3, 9, 2, 4])"
            ]
          },
          "metadata": {
            "tags": []
          },
          "execution_count": 4
        }
      ]
    },
    {
      "cell_type": "code",
      "metadata": {
        "id": "aNJ_rTXcFp7Z",
        "colab_type": "code",
        "colab": {
          "base_uri": "https://localhost:8080/",
          "height": 34
        },
        "outputId": "78ecb438-45d6-4418-daa5-56b9d84b9854"
      },
      "source": [
        "a[:2]"
      ],
      "execution_count": 5,
      "outputs": [
        {
          "output_type": "execute_result",
          "data": {
            "text/plain": [
              "array([1, 8])"
            ]
          },
          "metadata": {
            "tags": []
          },
          "execution_count": 5
        }
      ]
    },
    {
      "cell_type": "code",
      "metadata": {
        "id": "vhsiy49kF1cX",
        "colab_type": "code",
        "colab": {
          "base_uri": "https://localhost:8080/",
          "height": 34
        },
        "outputId": "38ef6f3d-5c3e-41a0-ebd1-fbf19ba663c8"
      },
      "source": [
        "a[2::2] #step count of 2"
      ],
      "execution_count": 7,
      "outputs": [
        {
          "output_type": "execute_result",
          "data": {
            "text/plain": [
              "array([ 3,  2, 18])"
            ]
          },
          "metadata": {
            "tags": []
          },
          "execution_count": 7
        }
      ]
    },
    {
      "cell_type": "code",
      "metadata": {
        "id": "-v9g7-phF3y3",
        "colab_type": "code",
        "colab": {
          "base_uri": "https://localhost:8080/",
          "height": 34
        },
        "outputId": "15d5e3d6-a62d-4464-a331-16873b6cc7c6"
      },
      "source": [
        "a[::-1] #in reverse order"
      ],
      "execution_count": 8,
      "outputs": [
        {
          "output_type": "execute_result",
          "data": {
            "text/plain": [
              "array([18,  4,  2,  9,  3,  8,  1])"
            ]
          },
          "metadata": {
            "tags": []
          },
          "execution_count": 8
        }
      ]
    },
    {
      "cell_type": "code",
      "metadata": {
        "id": "Fu_T_uLnF7x6",
        "colab_type": "code",
        "colab": {
          "base_uri": "https://localhost:8080/",
          "height": 34
        },
        "outputId": "5a76ca09-b075-4bc4-9774-b9180b480d59"
      },
      "source": [
        "a[3] = 999 #assign\n",
        "a"
      ],
      "execution_count": 9,
      "outputs": [
        {
          "output_type": "execute_result",
          "data": {
            "text/plain": [
              "array([  1,   8,   3, 999,   2,   4,  18])"
            ]
          },
          "metadata": {
            "tags": []
          },
          "execution_count": 9
        }
      ]
    },
    {
      "cell_type": "code",
      "metadata": {
        "id": "myrXTBwRGAUQ",
        "colab_type": "code",
        "colab": {
          "base_uri": "https://localhost:8080/",
          "height": 34
        },
        "outputId": "193497d6-63e5-4f1e-d7e8-bc5f128d9208"
      },
      "source": [
        "a[2:4] = [888, 999] \n",
        "a"
      ],
      "execution_count": 11,
      "outputs": [
        {
          "output_type": "execute_result",
          "data": {
            "text/plain": [
              "array([  1,   8, 888, 999,   2,   4,  18])"
            ]
          },
          "metadata": {
            "tags": []
          },
          "execution_count": 11
        }
      ]
    },
    {
      "cell_type": "markdown",
      "metadata": {
        "id": "HaSUa3G6Hs8p",
        "colab_type": "text"
      },
      "source": [
        "Differences with regular python arrays"
      ]
    },
    {
      "cell_type": "code",
      "metadata": {
        "id": "4TglcRLZGJrY",
        "colab_type": "code",
        "colab": {
          "base_uri": "https://localhost:8080/",
          "height": 34
        },
        "outputId": "d2c478ed-afde-464c-c82a-9e8090d31a20"
      },
      "source": [
        "a[2:5] = -1 #because of broadcasting, even if you assign a single value to an ndarray slice, it is copied across the whole slice\n",
        "a"
      ],
      "execution_count": 13,
      "outputs": [
        {
          "output_type": "execute_result",
          "data": {
            "text/plain": [
              "array([ 1,  8, -1, -1, -1,  4, 18])"
            ]
          },
          "metadata": {
            "tags": []
          },
          "execution_count": 13
        }
      ]
    },
    {
      "cell_type": "code",
      "metadata": {
        "id": "vEAHgx5eH6Cz",
        "colab_type": "code",
        "colab": {
          "base_uri": "https://localhost:8080/",
          "height": 34
        },
        "outputId": "02763fcf-43b2-4e28-c803-36d0ad435c37"
      },
      "source": [
        "try:\n",
        "  a[2:5] = [5, 6, 7, 8, 9]\n",
        "except ValueError as e:\n",
        "  print(e)"
      ],
      "execution_count": 14,
      "outputs": [
        {
          "output_type": "stream",
          "text": [
            "cannot copy sequence with size 5 to array axis with dimension 3\n"
          ],
          "name": "stdout"
        }
      ]
    },
    {
      "cell_type": "code",
      "metadata": {
        "id": "roThB2UeIXpy",
        "colab_type": "code",
        "colab": {
          "base_uri": "https://localhost:8080/",
          "height": 34
        },
        "outputId": "50555e43-328a-486d-f48a-116ff5e1a62e"
      },
      "source": [
        "try:\n",
        "  del a[2:5]\n",
        "except ValueError as e:\n",
        "  print(e)"
      ],
      "execution_count": 15,
      "outputs": [
        {
          "output_type": "stream",
          "text": [
            "cannot delete array elements\n"
          ],
          "name": "stdout"
        }
      ]
    },
    {
      "cell_type": "code",
      "metadata": {
        "id": "blLZWqrmIgsh",
        "colab_type": "code",
        "colab": {
          "base_uri": "https://localhost:8080/",
          "height": 34
        },
        "outputId": "6465783f-3f06-4df3-a2f3-a6f3d495846f"
      },
      "source": [
        "a_slice = a[2:5] #slices are actually views on the same data buffer\n",
        "a_slice[1] = 500\n",
        "a"
      ],
      "execution_count": 16,
      "outputs": [
        {
          "output_type": "execute_result",
          "data": {
            "text/plain": [
              "array([  1,   8,  -1, 500,  -1,   4,  18])"
            ]
          },
          "metadata": {
            "tags": []
          },
          "execution_count": 16
        }
      ]
    },
    {
      "cell_type": "code",
      "metadata": {
        "id": "pegk7ET4I1eP",
        "colab_type": "code",
        "colab": {
          "base_uri": "https://localhost:8080/",
          "height": 34
        },
        "outputId": "7317d66b-2842-4f36-964b-002bd4ffa746"
      },
      "source": [
        "another_slice_a = a[2:6].copy() #copy() method to make a copy of the data\n",
        "another_slice_a[1] = 600\n",
        "a "
      ],
      "execution_count": 17,
      "outputs": [
        {
          "output_type": "execute_result",
          "data": {
            "text/plain": [
              "array([  1,   8,  -1, 500,  -1,   4,  18])"
            ]
          },
          "metadata": {
            "tags": []
          },
          "execution_count": 17
        }
      ]
    },
    {
      "cell_type": "markdown",
      "metadata": {
        "id": "sEhDANQSLbVu",
        "colab_type": "text"
      },
      "source": [
        "### Multi-dimensional arrays"
      ]
    },
    {
      "cell_type": "code",
      "metadata": {
        "id": "ASQZknSFJHhB",
        "colab_type": "code",
        "colab": {
          "base_uri": "https://localhost:8080/",
          "height": 84
        },
        "outputId": "236c7ba9-ce36-4e5a-931c-7804480bc492"
      },
      "source": [
        "b = np.arange(48).reshape(4, 12)\n",
        "b"
      ],
      "execution_count": 18,
      "outputs": [
        {
          "output_type": "execute_result",
          "data": {
            "text/plain": [
              "array([[ 0,  1,  2,  3,  4,  5,  6,  7,  8,  9, 10, 11],\n",
              "       [12, 13, 14, 15, 16, 17, 18, 19, 20, 21, 22, 23],\n",
              "       [24, 25, 26, 27, 28, 29, 30, 31, 32, 33, 34, 35],\n",
              "       [36, 37, 38, 39, 40, 41, 42, 43, 44, 45, 46, 47]])"
            ]
          },
          "metadata": {
            "tags": []
          },
          "execution_count": 18
        }
      ]
    },
    {
      "cell_type": "code",
      "metadata": {
        "id": "gfapypBGLqGO",
        "colab_type": "code",
        "colab": {
          "base_uri": "https://localhost:8080/",
          "height": 34
        },
        "outputId": "b9fb95fb-d02b-48b2-db5d-c876a3dff1ae"
      },
      "source": [
        "b[1, 2]"
      ],
      "execution_count": 19,
      "outputs": [
        {
          "output_type": "execute_result",
          "data": {
            "text/plain": [
              "14"
            ]
          },
          "metadata": {
            "tags": []
          },
          "execution_count": 19
        }
      ]
    },
    {
      "cell_type": "code",
      "metadata": {
        "id": "aVwQUeE0LtUl",
        "colab_type": "code",
        "colab": {
          "base_uri": "https://localhost:8080/",
          "height": 34
        },
        "outputId": "057548af-c1f6-43b6-8363-fe19ef07c8f2"
      },
      "source": [
        "b[1, :] #row 1, all columns of shape (12,)"
      ],
      "execution_count": 20,
      "outputs": [
        {
          "output_type": "execute_result",
          "data": {
            "text/plain": [
              "array([12, 13, 14, 15, 16, 17, 18, 19, 20, 21, 22, 23])"
            ]
          },
          "metadata": {
            "tags": []
          },
          "execution_count": 20
        }
      ]
    },
    {
      "cell_type": "code",
      "metadata": {
        "id": "Ij0Fa6l8Lwh9",
        "colab_type": "code",
        "colab": {
          "base_uri": "https://localhost:8080/",
          "height": 34
        },
        "outputId": "7b560298-ecf5-4c8b-cb25-4f61b2281bfe"
      },
      "source": [
        "b[:, 1] #all rows, column 1"
      ],
      "execution_count": 21,
      "outputs": [
        {
          "output_type": "execute_result",
          "data": {
            "text/plain": [
              "array([ 1, 13, 25, 37])"
            ]
          },
          "metadata": {
            "tags": []
          },
          "execution_count": 21
        }
      ]
    },
    {
      "cell_type": "code",
      "metadata": {
        "id": "84j-84aSL1jn",
        "colab_type": "code",
        "colab": {
          "base_uri": "https://localhost:8080/",
          "height": 34
        },
        "outputId": "93552b44-741f-4bfe-9f4d-398571d9a32c"
      },
      "source": [
        "b[1:2, :] #returns the row as a 2D array of shape(1, 12)"
      ],
      "execution_count": 22,
      "outputs": [
        {
          "output_type": "execute_result",
          "data": {
            "text/plain": [
              "array([[12, 13, 14, 15, 16, 17, 18, 19, 20, 21, 22, 23]])"
            ]
          },
          "metadata": {
            "tags": []
          },
          "execution_count": 22
        }
      ]
    },
    {
      "cell_type": "code",
      "metadata": {
        "id": "rVdyjq3xME_w",
        "colab_type": "code",
        "colab": {
          "base_uri": "https://localhost:8080/",
          "height": 50
        },
        "outputId": "0f4a1e2d-99e6-4e43-8efc-0ee7942c08eb"
      },
      "source": [
        "b[(0, 2), 2:5] #rows 0 and 2, columns 2 to 4"
      ],
      "execution_count": 25,
      "outputs": [
        {
          "output_type": "execute_result",
          "data": {
            "text/plain": [
              "array([[ 2,  3,  4],\n",
              "       [26, 27, 28]])"
            ]
          },
          "metadata": {
            "tags": []
          },
          "execution_count": 25
        }
      ]
    },
    {
      "cell_type": "code",
      "metadata": {
        "id": "_JNtBw95d-Jo",
        "colab_type": "code",
        "colab": {
          "base_uri": "https://localhost:8080/",
          "height": 84
        },
        "outputId": "07b7a1ab-d15f-4ebe-d3e7-7cb3a81a0cca"
      },
      "source": [
        "b[:, (-1, 2, -1)] #all rows of columns last, 2 and last"
      ],
      "execution_count": 27,
      "outputs": [
        {
          "output_type": "execute_result",
          "data": {
            "text/plain": [
              "array([[11,  2, 11],\n",
              "       [23, 14, 23],\n",
              "       [35, 26, 35],\n",
              "       [47, 38, 47]])"
            ]
          },
          "metadata": {
            "tags": []
          },
          "execution_count": 27
        }
      ]
    },
    {
      "cell_type": "markdown",
      "metadata": {
        "id": "XX-Q8eDNe2ch",
        "colab_type": "text"
      },
      "source": [
        "### Higher Dimensions"
      ]
    },
    {
      "cell_type": "code",
      "metadata": {
        "id": "Wr2FizameNQi",
        "colab_type": "code",
        "colab": {
          "base_uri": "https://localhost:8080/",
          "height": 202
        },
        "outputId": "80b751d5-c692-48f7-e845-eeed8af15f96"
      },
      "source": [
        "c = b.reshape(4, 2, 6)\n",
        "c"
      ],
      "execution_count": 28,
      "outputs": [
        {
          "output_type": "execute_result",
          "data": {
            "text/plain": [
              "array([[[ 0,  1,  2,  3,  4,  5],\n",
              "        [ 6,  7,  8,  9, 10, 11]],\n",
              "\n",
              "       [[12, 13, 14, 15, 16, 17],\n",
              "        [18, 19, 20, 21, 22, 23]],\n",
              "\n",
              "       [[24, 25, 26, 27, 28, 29],\n",
              "        [30, 31, 32, 33, 34, 35]],\n",
              "\n",
              "       [[36, 37, 38, 39, 40, 41],\n",
              "        [42, 43, 44, 45, 46, 47]]])"
            ]
          },
          "metadata": {
            "tags": []
          },
          "execution_count": 28
        }
      ]
    },
    {
      "cell_type": "code",
      "metadata": {
        "id": "roW5ZGqje-CV",
        "colab_type": "code",
        "colab": {
          "base_uri": "https://localhost:8080/",
          "height": 34
        },
        "outputId": "77e219a3-0d2f-43a5-daad-ec0ff5bbc24f"
      },
      "source": [
        "c[2, 1, 4] #matrix 2, row 1, column 4"
      ],
      "execution_count": 29,
      "outputs": [
        {
          "output_type": "execute_result",
          "data": {
            "text/plain": [
              "34"
            ]
          },
          "metadata": {
            "tags": []
          },
          "execution_count": 29
        }
      ]
    },
    {
      "cell_type": "code",
      "metadata": {
        "id": "aB89FV-zfCer",
        "colab_type": "code",
        "colab": {
          "base_uri": "https://localhost:8080/",
          "height": 34
        },
        "outputId": "dd8d91a7-4335-45fa-d82d-6691afe7cb05"
      },
      "source": [
        "c[2, :, 3] #matrix 2, all rows, column 3"
      ],
      "execution_count": 30,
      "outputs": [
        {
          "output_type": "execute_result",
          "data": {
            "text/plain": [
              "array([27, 33])"
            ]
          },
          "metadata": {
            "tags": []
          },
          "execution_count": 30
        }
      ]
    },
    {
      "cell_type": "code",
      "metadata": {
        "id": "PNsdwGp1fMoe",
        "colab_type": "code",
        "colab": {
          "base_uri": "https://localhost:8080/",
          "height": 34
        },
        "outputId": "e0d133e3-ffbd-4c85-bee2-c3c61746215a"
      },
      "source": [
        "c[2, 1] #matrix 2, all of row 1"
      ],
      "execution_count": 31,
      "outputs": [
        {
          "output_type": "execute_result",
          "data": {
            "text/plain": [
              "array([30, 31, 32, 33, 34, 35])"
            ]
          },
          "metadata": {
            "tags": []
          },
          "execution_count": 31
        }
      ]
    },
    {
      "cell_type": "markdown",
      "metadata": {
        "id": "srD81UZXgC1d",
        "colab_type": "text"
      },
      "source": [
        "Ellipsis (...) -> non-specified axes be entirely added"
      ]
    },
    {
      "cell_type": "code",
      "metadata": {
        "id": "1nm5RQ_1fbVl",
        "colab_type": "code",
        "colab": {
          "base_uri": "https://localhost:8080/",
          "height": 50
        },
        "outputId": "ba7a2c66-83fe-4908-8c9e-41ec4ef77690"
      },
      "source": [
        "c[2, ...] #matrix 2, all rows and columns"
      ],
      "execution_count": 32,
      "outputs": [
        {
          "output_type": "execute_result",
          "data": {
            "text/plain": [
              "array([[24, 25, 26, 27, 28, 29],\n",
              "       [30, 31, 32, 33, 34, 35]])"
            ]
          },
          "metadata": {
            "tags": []
          },
          "execution_count": 32
        }
      ]
    },
    {
      "cell_type": "code",
      "metadata": {
        "id": "A8LFC1a9gQVm",
        "colab_type": "code",
        "colab": {
          "base_uri": "https://localhost:8080/",
          "height": 84
        },
        "outputId": "47ddd215-191f-40d2-cf83-5d2a4a64f2dc"
      },
      "source": [
        "c[..., 3] #all matrices, all rows, column 3"
      ],
      "execution_count": 33,
      "outputs": [
        {
          "output_type": "execute_result",
          "data": {
            "text/plain": [
              "array([[ 3,  9],\n",
              "       [15, 21],\n",
              "       [27, 33],\n",
              "       [39, 45]])"
            ]
          },
          "metadata": {
            "tags": []
          },
          "execution_count": 33
        }
      ]
    },
    {
      "cell_type": "markdown",
      "metadata": {
        "id": "4nUl_978kqgb",
        "colab_type": "text"
      },
      "source": [
        "Boolean indexing"
      ]
    },
    {
      "cell_type": "code",
      "metadata": {
        "id": "LWPSFBn2gUH1",
        "colab_type": "code",
        "colab": {
          "base_uri": "https://localhost:8080/",
          "height": 84
        },
        "outputId": "ff17a800-06cb-4ca2-94f3-57f53cebb39c"
      },
      "source": [
        "b = np.arange(48).reshape(4, 12)\n",
        "b"
      ],
      "execution_count": 37,
      "outputs": [
        {
          "output_type": "execute_result",
          "data": {
            "text/plain": [
              "array([[ 0,  1,  2,  3,  4,  5,  6,  7,  8,  9, 10, 11],\n",
              "       [12, 13, 14, 15, 16, 17, 18, 19, 20, 21, 22, 23],\n",
              "       [24, 25, 26, 27, 28, 29, 30, 31, 32, 33, 34, 35],\n",
              "       [36, 37, 38, 39, 40, 41, 42, 43, 44, 45, 46, 47]])"
            ]
          },
          "metadata": {
            "tags": []
          },
          "execution_count": 37
        }
      ]
    },
    {
      "cell_type": "code",
      "metadata": {
        "id": "IpEyVijzkzTc",
        "colab_type": "code",
        "colab": {
          "base_uri": "https://localhost:8080/",
          "height": 67
        },
        "outputId": "29fd4ee1-4229-4442-b8c4-743448d7d48d"
      },
      "source": [
        "rows_on = np.array([True, False, True, True])\n",
        "b[rows_on, :]"
      ],
      "execution_count": 35,
      "outputs": [
        {
          "output_type": "execute_result",
          "data": {
            "text/plain": [
              "array([[ 0,  1,  2,  3,  4,  5,  6,  7,  8,  9, 10, 11],\n",
              "       [24, 25, 26, 27, 28, 29, 30, 31, 32, 33, 34, 35],\n",
              "       [36, 37, 38, 39, 40, 41, 42, 43, 44, 45, 46, 47]])"
            ]
          },
          "metadata": {
            "tags": []
          },
          "execution_count": 35
        }
      ]
    },
    {
      "cell_type": "code",
      "metadata": {
        "id": "Ue-HWPa6lCRm",
        "colab_type": "code",
        "colab": {
          "base_uri": "https://localhost:8080/",
          "height": 84
        },
        "outputId": "36b118c5-c034-4938-9894-94b40c2a5211"
      },
      "source": [
        "cols_on = np.array([False, True, False, True] * 3)\n",
        "b[:, cols_on]"
      ],
      "execution_count": 38,
      "outputs": [
        {
          "output_type": "execute_result",
          "data": {
            "text/plain": [
              "array([[ 1,  3,  5,  7,  9, 11],\n",
              "       [13, 15, 17, 19, 21, 23],\n",
              "       [25, 27, 29, 31, 33, 35],\n",
              "       [37, 39, 41, 43, 45, 47]])"
            ]
          },
          "metadata": {
            "tags": []
          },
          "execution_count": 38
        }
      ]
    },
    {
      "cell_type": "markdown",
      "metadata": {
        "id": "zQ03InHinxZQ",
        "colab_type": "text"
      },
      "source": [
        "np.ix_"
      ]
    },
    {
      "cell_type": "code",
      "metadata": {
        "id": "7nIG68aslQv3",
        "colab_type": "code",
        "colab": {
          "base_uri": "https://localhost:8080/",
          "height": 67
        },
        "outputId": "7bc5006d-3647-40a6-ca8a-823fd6a6d753"
      },
      "source": [
        "b[np.ix_(rows_on, cols_on)]"
      ],
      "execution_count": 39,
      "outputs": [
        {
          "output_type": "execute_result",
          "data": {
            "text/plain": [
              "array([[ 1,  3,  5,  7,  9, 11],\n",
              "       [25, 27, 29, 31, 33, 35],\n",
              "       [37, 39, 41, 43, 45, 47]])"
            ]
          },
          "metadata": {
            "tags": []
          },
          "execution_count": 39
        }
      ]
    },
    {
      "cell_type": "code",
      "metadata": {
        "id": "uKoNi8Osn4LD",
        "colab_type": "code",
        "colab": {
          "base_uri": "https://localhost:8080/",
          "height": 34
        },
        "outputId": "3495acf2-5dc2-4611-a7b7-bf61113fd091"
      },
      "source": [
        "b[b % 7 == 0] #1D array containing all the values that are true"
      ],
      "execution_count": 40,
      "outputs": [
        {
          "output_type": "execute_result",
          "data": {
            "text/plain": [
              "array([ 0,  7, 14, 21, 28, 35, 42])"
            ]
          },
          "metadata": {
            "tags": []
          },
          "execution_count": 40
        }
      ]
    },
    {
      "cell_type": "markdown",
      "metadata": {
        "id": "8YPKx81WoQlg",
        "colab_type": "text"
      },
      "source": [
        "## Iterating\n",
        "Iterating over arrays is done with respect to the first axis."
      ]
    },
    {
      "cell_type": "code",
      "metadata": {
        "id": "n495_Bm-n-up",
        "colab_type": "code",
        "colab": {
          "base_uri": "https://localhost:8080/",
          "height": 134
        },
        "outputId": "1ed2c9fb-60e3-4885-cf32-27516cbf1a4d"
      },
      "source": [
        "c = np.arange(24).reshape(2, 3, 4)\n",
        "c"
      ],
      "execution_count": 41,
      "outputs": [
        {
          "output_type": "execute_result",
          "data": {
            "text/plain": [
              "array([[[ 0,  1,  2,  3],\n",
              "        [ 4,  5,  6,  7],\n",
              "        [ 8,  9, 10, 11]],\n",
              "\n",
              "       [[12, 13, 14, 15],\n",
              "        [16, 17, 18, 19],\n",
              "        [20, 21, 22, 23]]])"
            ]
          },
          "metadata": {
            "tags": []
          },
          "execution_count": 41
        }
      ]
    },
    {
      "cell_type": "code",
      "metadata": {
        "id": "dlIk6jFUqhTi",
        "colab_type": "code",
        "colab": {
          "base_uri": "https://localhost:8080/",
          "height": 151
        },
        "outputId": "835a4ada-d432-4fc0-d6d4-3defc8b5ec75"
      },
      "source": [
        "for m in c:\n",
        "  print(\"Item:\")\n",
        "  print(m)"
      ],
      "execution_count": 42,
      "outputs": [
        {
          "output_type": "stream",
          "text": [
            "Item:\n",
            "[[ 0  1  2  3]\n",
            " [ 4  5  6  7]\n",
            " [ 8  9 10 11]]\n",
            "Item:\n",
            "[[12 13 14 15]\n",
            " [16 17 18 19]\n",
            " [20 21 22 23]]\n"
          ],
          "name": "stdout"
        }
      ]
    },
    {
      "cell_type": "code",
      "metadata": {
        "id": "BIA9zQmyqnll",
        "colab_type": "code",
        "colab": {
          "base_uri": "https://localhost:8080/",
          "height": 151
        },
        "outputId": "d5afbdf2-e985-47ef-880c-c5d9405822b7"
      },
      "source": [
        "for i in range(len(c)): #len(c) == c.shape[0]\n",
        "  print(\"Item:\")\n",
        "  print(c[i])"
      ],
      "execution_count": 44,
      "outputs": [
        {
          "output_type": "stream",
          "text": [
            "Item:\n",
            "[[ 0  1  2  3]\n",
            " [ 4  5  6  7]\n",
            " [ 8  9 10 11]]\n",
            "Item:\n",
            "[[12 13 14 15]\n",
            " [16 17 18 19]\n",
            " [20 21 22 23]]\n"
          ],
          "name": "stdout"
        }
      ]
    },
    {
      "cell_type": "code",
      "metadata": {
        "id": "TmU4jc9Cq4JO",
        "colab_type": "code",
        "colab": {
          "base_uri": "https://localhost:8080/",
          "height": 420
        },
        "outputId": "42bc172b-fcee-44fe-b6ca-cd89eb2af0e2"
      },
      "source": [
        "for i in c.flat:\n",
        "  print(\"Item:\", i)"
      ],
      "execution_count": 45,
      "outputs": [
        {
          "output_type": "stream",
          "text": [
            "Item: 0\n",
            "Item: 1\n",
            "Item: 2\n",
            "Item: 3\n",
            "Item: 4\n",
            "Item: 5\n",
            "Item: 6\n",
            "Item: 7\n",
            "Item: 8\n",
            "Item: 9\n",
            "Item: 10\n",
            "Item: 11\n",
            "Item: 12\n",
            "Item: 13\n",
            "Item: 14\n",
            "Item: 15\n",
            "Item: 16\n",
            "Item: 17\n",
            "Item: 18\n",
            "Item: 19\n",
            "Item: 20\n",
            "Item: 21\n",
            "Item: 22\n",
            "Item: 23\n"
          ],
          "name": "stdout"
        }
      ]
    },
    {
      "cell_type": "markdown",
      "metadata": {
        "id": "xBV1oojHra9d",
        "colab_type": "text"
      },
      "source": [
        "## Stacking arrays\n",
        "Stack together different arrays"
      ]
    },
    {
      "cell_type": "code",
      "metadata": {
        "id": "k9OcQRvRrEsL",
        "colab_type": "code",
        "colab": {
          "base_uri": "https://localhost:8080/",
          "height": 67
        },
        "outputId": "e0469f5c-1886-4c4c-ee4f-768c9782a91e"
      },
      "source": [
        "q1 = np.full((3, 4), 1.0)\n",
        "q1"
      ],
      "execution_count": 46,
      "outputs": [
        {
          "output_type": "execute_result",
          "data": {
            "text/plain": [
              "array([[1., 1., 1., 1.],\n",
              "       [1., 1., 1., 1.],\n",
              "       [1., 1., 1., 1.]])"
            ]
          },
          "metadata": {
            "tags": []
          },
          "execution_count": 46
        }
      ]
    },
    {
      "cell_type": "code",
      "metadata": {
        "id": "XEw_PdVGsJFz",
        "colab_type": "code",
        "colab": {
          "base_uri": "https://localhost:8080/",
          "height": 84
        },
        "outputId": "5c5acbb3-1885-4a7a-8b0d-a79199a16eca"
      },
      "source": [
        "q2 = np.full((4, 4), 2.0)\n",
        "q2"
      ],
      "execution_count": 47,
      "outputs": [
        {
          "output_type": "execute_result",
          "data": {
            "text/plain": [
              "array([[2., 2., 2., 2.],\n",
              "       [2., 2., 2., 2.],\n",
              "       [2., 2., 2., 2.],\n",
              "       [2., 2., 2., 2.]])"
            ]
          },
          "metadata": {
            "tags": []
          },
          "execution_count": 47
        }
      ]
    },
    {
      "cell_type": "code",
      "metadata": {
        "id": "YMWm3BVnsO0d",
        "colab_type": "code",
        "colab": {
          "base_uri": "https://localhost:8080/",
          "height": 67
        },
        "outputId": "358c5e78-45c4-418c-d093-d04a871d4937"
      },
      "source": [
        "q3 = np.full((3, 4), 3.0)\n",
        "q3"
      ],
      "execution_count": 48,
      "outputs": [
        {
          "output_type": "execute_result",
          "data": {
            "text/plain": [
              "array([[3., 3., 3., 3.],\n",
              "       [3., 3., 3., 3.],\n",
              "       [3., 3., 3., 3.]])"
            ]
          },
          "metadata": {
            "tags": []
          },
          "execution_count": 48
        }
      ]
    },
    {
      "cell_type": "markdown",
      "metadata": {
        "id": "i128xvLTshiS",
        "colab_type": "text"
      },
      "source": [
        "vstack - stack arrays vertically"
      ]
    },
    {
      "cell_type": "code",
      "metadata": {
        "id": "v4_KReDZsZNJ",
        "colab_type": "code",
        "colab": {
          "base_uri": "https://localhost:8080/",
          "height": 185
        },
        "outputId": "3f359897-a501-43d0-e740-1c3d6a597a84"
      },
      "source": [
        "q4 = np.vstack((q1, q2, q3))\n",
        "q4"
      ],
      "execution_count": 49,
      "outputs": [
        {
          "output_type": "execute_result",
          "data": {
            "text/plain": [
              "array([[1., 1., 1., 1.],\n",
              "       [1., 1., 1., 1.],\n",
              "       [1., 1., 1., 1.],\n",
              "       [2., 2., 2., 2.],\n",
              "       [2., 2., 2., 2.],\n",
              "       [2., 2., 2., 2.],\n",
              "       [2., 2., 2., 2.],\n",
              "       [3., 3., 3., 3.],\n",
              "       [3., 3., 3., 3.],\n",
              "       [3., 3., 3., 3.]])"
            ]
          },
          "metadata": {
            "tags": []
          },
          "execution_count": 49
        }
      ]
    },
    {
      "cell_type": "code",
      "metadata": {
        "id": "kvD5gUOXsvs6",
        "colab_type": "code",
        "colab": {
          "base_uri": "https://localhost:8080/",
          "height": 34
        },
        "outputId": "72ade1c2-fc25-4657-8b71-c3654f3daeb2"
      },
      "source": [
        "q4.shape"
      ],
      "execution_count": 50,
      "outputs": [
        {
          "output_type": "execute_result",
          "data": {
            "text/plain": [
              "(10, 4)"
            ]
          },
          "metadata": {
            "tags": []
          },
          "execution_count": 50
        }
      ]
    },
    {
      "cell_type": "markdown",
      "metadata": {
        "id": "hT8uh64Os1fZ",
        "colab_type": "text"
      },
      "source": [
        "hstack - stack arrays horizontally"
      ]
    },
    {
      "cell_type": "code",
      "metadata": {
        "id": "zrNPsysqsyrW",
        "colab_type": "code",
        "colab": {
          "base_uri": "https://localhost:8080/",
          "height": 67
        },
        "outputId": "b9554ae3-e21b-44f9-9485-1a236a1dd197"
      },
      "source": [
        "q5 = np.hstack((q1, q3))\n",
        "q5"
      ],
      "execution_count": 51,
      "outputs": [
        {
          "output_type": "execute_result",
          "data": {
            "text/plain": [
              "array([[1., 1., 1., 1., 3., 3., 3., 3.],\n",
              "       [1., 1., 1., 1., 3., 3., 3., 3.],\n",
              "       [1., 1., 1., 1., 3., 3., 3., 3.]])"
            ]
          },
          "metadata": {
            "tags": []
          },
          "execution_count": 51
        }
      ]
    },
    {
      "cell_type": "code",
      "metadata": {
        "id": "t6NxafaVs_1v",
        "colab_type": "code",
        "colab": {
          "base_uri": "https://localhost:8080/",
          "height": 34
        },
        "outputId": "ec0f0756-911f-42b2-e065-3ba94cbb71f7"
      },
      "source": [
        "q5.shape"
      ],
      "execution_count": 52,
      "outputs": [
        {
          "output_type": "execute_result",
          "data": {
            "text/plain": [
              "(3, 8)"
            ]
          },
          "metadata": {
            "tags": []
          },
          "execution_count": 52
        }
      ]
    },
    {
      "cell_type": "code",
      "metadata": {
        "id": "QtR6XS7_tC4h",
        "colab_type": "code",
        "colab": {
          "base_uri": "https://localhost:8080/",
          "height": 54
        },
        "outputId": "bef93e47-87fa-4488-bc5c-8e43c1b5da80"
      },
      "source": [
        "try:\n",
        "  np.hstack((q1, q2, q3))\n",
        "except ValueError as e:\n",
        "  print(e)"
      ],
      "execution_count": 53,
      "outputs": [
        {
          "output_type": "stream",
          "text": [
            "all the input array dimensions for the concatenation axis must match exactly, but along dimension 0, the array at index 0 has size 3 and the array at index 1 has size 4\n"
          ],
          "name": "stdout"
        }
      ]
    },
    {
      "cell_type": "markdown",
      "metadata": {
        "id": "wlRQA2phtStp",
        "colab_type": "text"
      },
      "source": [
        "concatenate - stacks arrays along any given existing axis"
      ]
    },
    {
      "cell_type": "code",
      "metadata": {
        "id": "Vh-mK5U3tMWY",
        "colab_type": "code",
        "colab": {
          "base_uri": "https://localhost:8080/",
          "height": 185
        },
        "outputId": "b9497da2-c55a-4dfb-b820-361f8200edc7"
      },
      "source": [
        "q6 = np.concatenate((q1, q2, q3), axis = 0)\n",
        "q6"
      ],
      "execution_count": 54,
      "outputs": [
        {
          "output_type": "execute_result",
          "data": {
            "text/plain": [
              "array([[1., 1., 1., 1.],\n",
              "       [1., 1., 1., 1.],\n",
              "       [1., 1., 1., 1.],\n",
              "       [2., 2., 2., 2.],\n",
              "       [2., 2., 2., 2.],\n",
              "       [2., 2., 2., 2.],\n",
              "       [2., 2., 2., 2.],\n",
              "       [3., 3., 3., 3.],\n",
              "       [3., 3., 3., 3.],\n",
              "       [3., 3., 3., 3.]])"
            ]
          },
          "metadata": {
            "tags": []
          },
          "execution_count": 54
        }
      ]
    },
    {
      "cell_type": "markdown",
      "metadata": {
        "id": "9OVidhaMt38b",
        "colab_type": "text"
      },
      "source": [
        "stack - stacks arrays along a new axis. All arrays have to have the same shape."
      ]
    },
    {
      "cell_type": "code",
      "metadata": {
        "id": "dMi_9Mz1tiSf",
        "colab_type": "code",
        "colab": {
          "base_uri": "https://localhost:8080/",
          "height": 134
        },
        "outputId": "c41faf9a-cd2d-47d7-9d6f-277d72a92324"
      },
      "source": [
        "q7 = np.stack((q1, q3))\n",
        "q7"
      ],
      "execution_count": 56,
      "outputs": [
        {
          "output_type": "execute_result",
          "data": {
            "text/plain": [
              "array([[[1., 1., 1., 1.],\n",
              "        [1., 1., 1., 1.],\n",
              "        [1., 1., 1., 1.]],\n",
              "\n",
              "       [[3., 3., 3., 3.],\n",
              "        [3., 3., 3., 3.],\n",
              "        [3., 3., 3., 3.]]])"
            ]
          },
          "metadata": {
            "tags": []
          },
          "execution_count": 56
        }
      ]
    },
    {
      "cell_type": "markdown",
      "metadata": {
        "id": "ZXSNxXzUwTO_",
        "colab_type": "text"
      },
      "source": [
        "## Splitting arrays"
      ]
    },
    {
      "cell_type": "code",
      "metadata": {
        "id": "MXczojZzt2Uh",
        "colab_type": "code",
        "colab": {
          "base_uri": "https://localhost:8080/",
          "height": 118
        },
        "outputId": "9c694ed5-a887-4797-8ca5-868ca6e87b86"
      },
      "source": [
        "r = np.arange(24).reshape(6, 4)\n",
        "r"
      ],
      "execution_count": 57,
      "outputs": [
        {
          "output_type": "execute_result",
          "data": {
            "text/plain": [
              "array([[ 0,  1,  2,  3],\n",
              "       [ 4,  5,  6,  7],\n",
              "       [ 8,  9, 10, 11],\n",
              "       [12, 13, 14, 15],\n",
              "       [16, 17, 18, 19],\n",
              "       [20, 21, 22, 23]])"
            ]
          },
          "metadata": {
            "tags": []
          },
          "execution_count": 57
        }
      ]
    },
    {
      "cell_type": "code",
      "metadata": {
        "id": "jVwou_20wdxN",
        "colab_type": "code",
        "colab": {}
      },
      "source": [
        "r1, r2, r3 = np.vsplit(r, 3) #split vertically"
      ],
      "execution_count": 0,
      "outputs": []
    },
    {
      "cell_type": "code",
      "metadata": {
        "id": "ksAPtCsvwkOm",
        "colab_type": "code",
        "colab": {
          "base_uri": "https://localhost:8080/",
          "height": 50
        },
        "outputId": "3658d8bf-7d9a-4ab5-bde1-db8e4c06de0a"
      },
      "source": [
        "r1"
      ],
      "execution_count": 59,
      "outputs": [
        {
          "output_type": "execute_result",
          "data": {
            "text/plain": [
              "array([[0, 1, 2, 3],\n",
              "       [4, 5, 6, 7]])"
            ]
          },
          "metadata": {
            "tags": []
          },
          "execution_count": 59
        }
      ]
    },
    {
      "cell_type": "code",
      "metadata": {
        "id": "1IfA4VDHwlgT",
        "colab_type": "code",
        "colab": {
          "base_uri": "https://localhost:8080/",
          "height": 118
        },
        "outputId": "e02d52fe-59e7-4557-84d8-dba1aaea546e"
      },
      "source": [
        "r4, r5 = np.hsplit(r, 2) #split horizontally\n",
        "r4"
      ],
      "execution_count": 60,
      "outputs": [
        {
          "output_type": "execute_result",
          "data": {
            "text/plain": [
              "array([[ 0,  1],\n",
              "       [ 4,  5],\n",
              "       [ 8,  9],\n",
              "       [12, 13],\n",
              "       [16, 17],\n",
              "       [20, 21]])"
            ]
          },
          "metadata": {
            "tags": []
          },
          "execution_count": 60
        }
      ]
    },
    {
      "cell_type": "markdown",
      "metadata": {
        "id": "vxT7lCK_9b6T",
        "colab_type": "text"
      },
      "source": [
        "## Transposing arrays\n",
        "The transpose method creates a new view on an ndarray's data, with axes permuted in the given order.\n",
        "By default transpose reverses the order of the dimensions."
      ]
    },
    {
      "cell_type": "code",
      "metadata": {
        "id": "JXraGl-8wrTP",
        "colab_type": "code",
        "colab": {
          "base_uri": "https://localhost:8080/",
          "height": 202
        },
        "outputId": "97785a95-f51e-4c7c-df4f-5c9aeee70755"
      },
      "source": [
        "t = np.arange(24).reshape(4, 2, 3) #depth, height, width\n",
        "t"
      ],
      "execution_count": 61,
      "outputs": [
        {
          "output_type": "execute_result",
          "data": {
            "text/plain": [
              "array([[[ 0,  1,  2],\n",
              "        [ 3,  4,  5]],\n",
              "\n",
              "       [[ 6,  7,  8],\n",
              "        [ 9, 10, 11]],\n",
              "\n",
              "       [[12, 13, 14],\n",
              "        [15, 16, 17]],\n",
              "\n",
              "       [[18, 19, 20],\n",
              "        [21, 22, 23]]])"
            ]
          },
          "metadata": {
            "tags": []
          },
          "execution_count": 61
        }
      ]
    },
    {
      "cell_type": "code",
      "metadata": {
        "id": "Wf4IV9wS-K4P",
        "colab_type": "code",
        "colab": {
          "base_uri": "https://localhost:8080/",
          "height": 134
        },
        "outputId": "482bc4e3-625b-4e6a-cdd8-486f982da368"
      },
      "source": [
        "t1 = t.transpose((1, 2, 0)) #(4, 2, 3) -> (2, 3, 4)\n",
        "t1"
      ],
      "execution_count": 63,
      "outputs": [
        {
          "output_type": "execute_result",
          "data": {
            "text/plain": [
              "array([[[ 0,  6, 12, 18],\n",
              "        [ 1,  7, 13, 19],\n",
              "        [ 2,  8, 14, 20]],\n",
              "\n",
              "       [[ 3,  9, 15, 21],\n",
              "        [ 4, 10, 16, 22],\n",
              "        [ 5, 11, 17, 23]]])"
            ]
          },
          "metadata": {
            "tags": []
          },
          "execution_count": 63
        }
      ]
    },
    {
      "cell_type": "markdown",
      "metadata": {
        "id": "SyzaVdXEAXpD",
        "colab_type": "text"
      },
      "source": [
        "## Linear Algebra"
      ]
    },
    {
      "cell_type": "markdown",
      "metadata": {
        "id": "aoJPSBOoDB-q",
        "colab_type": "text"
      },
      "source": [
        "### Matrix transpose"
      ]
    },
    {
      "cell_type": "code",
      "metadata": {
        "id": "_w1jsMVh-Xoe",
        "colab_type": "code",
        "colab": {
          "base_uri": "https://localhost:8080/",
          "height": 50
        },
        "outputId": "59d6d14f-0693-4a5f-e3fa-5f78c99f5fc9"
      },
      "source": [
        "m1 = np.arange(10).reshape(2, 5)\n",
        "m1"
      ],
      "execution_count": 64,
      "outputs": [
        {
          "output_type": "execute_result",
          "data": {
            "text/plain": [
              "array([[0, 1, 2, 3, 4],\n",
              "       [5, 6, 7, 8, 9]])"
            ]
          },
          "metadata": {
            "tags": []
          },
          "execution_count": 64
        }
      ]
    },
    {
      "cell_type": "code",
      "metadata": {
        "id": "7HlBXuHIDSf5",
        "colab_type": "code",
        "colab": {
          "base_uri": "https://localhost:8080/",
          "height": 101
        },
        "outputId": "5dd674d7-2369-4857-dcc5-c901c8e5ad1c"
      },
      "source": [
        "m1.T"
      ],
      "execution_count": 65,
      "outputs": [
        {
          "output_type": "execute_result",
          "data": {
            "text/plain": [
              "array([[0, 5],\n",
              "       [1, 6],\n",
              "       [2, 7],\n",
              "       [3, 8],\n",
              "       [4, 9]])"
            ]
          },
          "metadata": {
            "tags": []
          },
          "execution_count": 65
        }
      ]
    },
    {
      "cell_type": "code",
      "metadata": {
        "id": "dKULP6j5DUco",
        "colab_type": "code",
        "colab": {
          "base_uri": "https://localhost:8080/",
          "height": 34
        },
        "outputId": "c41b0cc7-c943-43b1-c1f3-4c14d74951ca"
      },
      "source": [
        "m2 = np.arange(5)\n",
        "m2.T"
      ],
      "execution_count": 66,
      "outputs": [
        {
          "output_type": "execute_result",
          "data": {
            "text/plain": [
              "array([0, 1, 2, 3, 4])"
            ]
          },
          "metadata": {
            "tags": []
          },
          "execution_count": 66
        }
      ]
    },
    {
      "cell_type": "code",
      "metadata": {
        "id": "AyGYxT1iDe3a",
        "colab_type": "code",
        "colab": {
          "base_uri": "https://localhost:8080/",
          "height": 101
        },
        "outputId": "c9d66035-2925-42c7-93e9-351e009b5bb5"
      },
      "source": [
        "m2r = m2.reshape(1, 5)\n",
        "m2r.T"
      ],
      "execution_count": 68,
      "outputs": [
        {
          "output_type": "execute_result",
          "data": {
            "text/plain": [
              "array([[0],\n",
              "       [1],\n",
              "       [2],\n",
              "       [3],\n",
              "       [4]])"
            ]
          },
          "metadata": {
            "tags": []
          },
          "execution_count": 68
        }
      ]
    },
    {
      "cell_type": "markdown",
      "metadata": {
        "id": "5F0x2armEEwt",
        "colab_type": "text"
      },
      "source": [
        "### Matrix multiplication"
      ]
    },
    {
      "cell_type": "code",
      "metadata": {
        "id": "qScgV-upDjor",
        "colab_type": "code",
        "colab": {
          "base_uri": "https://localhost:8080/",
          "height": 50
        },
        "outputId": "1d83aa5b-e28f-4f03-e42c-15cca9776740"
      },
      "source": [
        "n1 = np.arange(10).reshape(2, 5)\n",
        "n2 = np.arange(15).reshape(5, 3)\n",
        "n1.dot(n2)"
      ],
      "execution_count": 69,
      "outputs": [
        {
          "output_type": "execute_result",
          "data": {
            "text/plain": [
              "array([[ 90, 100, 110],\n",
              "       [240, 275, 310]])"
            ]
          },
          "metadata": {
            "tags": []
          },
          "execution_count": 69
        }
      ]
    },
    {
      "cell_type": "markdown",
      "metadata": {
        "id": "eftGyjTqFIPT",
        "colab_type": "text"
      },
      "source": [
        "### Matrix inverse"
      ]
    },
    {
      "cell_type": "code",
      "metadata": {
        "id": "Aq8j96uNEaMp",
        "colab_type": "code",
        "colab": {
          "base_uri": "https://localhost:8080/",
          "height": 118
        },
        "outputId": "920c486c-759a-4d25-f953-fbb2c7d0e7b0"
      },
      "source": [
        "import numpy.linalg as linalg\n",
        "\n",
        "m3 = np.array([[1, 2, 3], [5, 7, 11], [21, 29, 31]])\n",
        "print(m3)\n",
        "print(linalg.inv(m3))"
      ],
      "execution_count": 72,
      "outputs": [
        {
          "output_type": "stream",
          "text": [
            "[[ 1  2  3]\n",
            " [ 5  7 11]\n",
            " [21 29 31]]\n",
            "[[-2.31818182  0.56818182  0.02272727]\n",
            " [ 1.72727273 -0.72727273  0.09090909]\n",
            " [-0.04545455  0.29545455 -0.06818182]]\n"
          ],
          "name": "stdout"
        }
      ]
    },
    {
      "cell_type": "code",
      "metadata": {
        "id": "dHoa9ecLFdLZ",
        "colab_type": "code",
        "colab": {
          "base_uri": "https://localhost:8080/",
          "height": 67
        },
        "outputId": "4ce3b718-b34c-49af-fc12-59c9818e6f53"
      },
      "source": [
        "m3.dot(linalg.inv(m3)) #identity matrix"
      ],
      "execution_count": 74,
      "outputs": [
        {
          "output_type": "execute_result",
          "data": {
            "text/plain": [
              "array([[ 1.00000000e+00, -1.66533454e-16,  0.00000000e+00],\n",
              "       [ 6.31439345e-16,  1.00000000e+00, -1.38777878e-16],\n",
              "       [ 5.21110932e-15, -2.38697950e-15,  1.00000000e+00]])"
            ]
          },
          "metadata": {
            "tags": []
          },
          "execution_count": 74
        }
      ]
    },
    {
      "cell_type": "markdown",
      "metadata": {
        "id": "dJonvy_NGVZj",
        "colab_type": "text"
      },
      "source": [
        "### Determinant"
      ]
    },
    {
      "cell_type": "code",
      "metadata": {
        "id": "DwKEIJGbGPyX",
        "colab_type": "code",
        "colab": {
          "base_uri": "https://localhost:8080/",
          "height": 34
        },
        "outputId": "48afd45b-3d16-43dd-e9ef-f9111f3cc8b6"
      },
      "source": [
        "linalg.det(m3)"
      ],
      "execution_count": 75,
      "outputs": [
        {
          "output_type": "execute_result",
          "data": {
            "text/plain": [
              "43.99999999999997"
            ]
          },
          "metadata": {
            "tags": []
          },
          "execution_count": 75
        }
      ]
    },
    {
      "cell_type": "markdown",
      "metadata": {
        "id": "4rUt8FwRGleQ",
        "colab_type": "text"
      },
      "source": [
        "### Eigenvalues and eigenvectors"
      ]
    },
    {
      "cell_type": "code",
      "metadata": {
        "id": "L5yl7SThGbjL",
        "colab_type": "code",
        "colab": {
          "base_uri": "https://localhost:8080/",
          "height": 34
        },
        "outputId": "73dfac27-1563-441b-9792-d7b00fd56491"
      },
      "source": [
        "eigenvalues, eigenvectors = linalg.eig(m3)\n",
        "eigenvalues"
      ],
      "execution_count": 77,
      "outputs": [
        {
          "output_type": "execute_result",
          "data": {
            "text/plain": [
              "array([42.26600592, -0.35798416, -2.90802176])"
            ]
          },
          "metadata": {
            "tags": []
          },
          "execution_count": 77
        }
      ]
    },
    {
      "cell_type": "code",
      "metadata": {
        "id": "_78P_AGcHH_g",
        "colab_type": "code",
        "colab": {
          "base_uri": "https://localhost:8080/",
          "height": 67
        },
        "outputId": "2c5bb3c6-d9b8-4530-bf04-8403a9522320"
      },
      "source": [
        "eigenvectors"
      ],
      "execution_count": 78,
      "outputs": [
        {
          "output_type": "execute_result",
          "data": {
            "text/plain": [
              "array([[-0.08381182, -0.76283526, -0.18913107],\n",
              "       [-0.3075286 ,  0.64133975, -0.6853186 ],\n",
              "       [-0.94784057, -0.08225377,  0.70325518]])"
            ]
          },
          "metadata": {
            "tags": []
          },
          "execution_count": 78
        }
      ]
    },
    {
      "cell_type": "markdown",
      "metadata": {
        "id": "DOTSaiv2IApz",
        "colab_type": "text"
      },
      "source": [
        "### Diagonal and trace"
      ]
    },
    {
      "cell_type": "code",
      "metadata": {
        "id": "i_9_M-XkHOLq",
        "colab_type": "code",
        "colab": {
          "base_uri": "https://localhost:8080/",
          "height": 34
        },
        "outputId": "eefa58ec-a7a8-48ff-f210-5b7dbe799805"
      },
      "source": [
        "np.diag(m3)"
      ],
      "execution_count": 79,
      "outputs": [
        {
          "output_type": "execute_result",
          "data": {
            "text/plain": [
              "array([ 1,  7, 31])"
            ]
          },
          "metadata": {
            "tags": []
          },
          "execution_count": 79
        }
      ]
    },
    {
      "cell_type": "code",
      "metadata": {
        "id": "mqgz0LVzIJIV",
        "colab_type": "code",
        "colab": {
          "base_uri": "https://localhost:8080/",
          "height": 34
        },
        "outputId": "68aad76b-b494-40e6-8933-545f2ba125b1"
      },
      "source": [
        "np.trace(m3)"
      ],
      "execution_count": 80,
      "outputs": [
        {
          "output_type": "execute_result",
          "data": {
            "text/plain": [
              "39"
            ]
          },
          "metadata": {
            "tags": []
          },
          "execution_count": 80
        }
      ]
    },
    {
      "cell_type": "markdown",
      "metadata": {
        "id": "qwrbrqRKIMzj",
        "colab_type": "text"
      },
      "source": [
        "### Solving a system of linear scalar equations\n",
        "2x + 6y = 6 and 5x + 3y = -9"
      ]
    },
    {
      "cell_type": "code",
      "metadata": {
        "id": "MI42qLI5IKwc",
        "colab_type": "code",
        "colab": {
          "base_uri": "https://localhost:8080/",
          "height": 34
        },
        "outputId": "38a7b2a6-9c2b-4dff-93a8-be9d6fee9d39"
      },
      "source": [
        "coeffs = np.array([[2,6], [5, 3]])\n",
        "depvars = np.array([6, -9])\n",
        "solution = linalg.solve(coeffs, depvars)\n",
        "solution"
      ],
      "execution_count": 81,
      "outputs": [
        {
          "output_type": "execute_result",
          "data": {
            "text/plain": [
              "array([-3.,  2.])"
            ]
          },
          "metadata": {
            "tags": []
          },
          "execution_count": 81
        }
      ]
    },
    {
      "cell_type": "code",
      "metadata": {
        "id": "mqK88Rb1JATf",
        "colab_type": "code",
        "colab": {
          "base_uri": "https://localhost:8080/",
          "height": 34
        },
        "outputId": "631e76fa-eeb6-4b83-ba70-e8cf43b8582a"
      },
      "source": [
        "coeffs.dot(solution), depvars"
      ],
      "execution_count": 82,
      "outputs": [
        {
          "output_type": "execute_result",
          "data": {
            "text/plain": [
              "(array([ 6., -9.]), array([ 6, -9]))"
            ]
          },
          "metadata": {
            "tags": []
          },
          "execution_count": 82
        }
      ]
    },
    {
      "cell_type": "markdown",
      "metadata": {
        "id": "TDHOG14qKecT",
        "colab_type": "text"
      },
      "source": [
        "## Vectorization\n",
        "Array operations.   \n",
        "meshgrid function is used to generate coordinate matrices from from coordinate vectors."
      ]
    },
    {
      "cell_type": "code",
      "metadata": {
        "id": "lph5o7L4JTXM",
        "colab_type": "code",
        "colab": {
          "base_uri": "https://localhost:8080/",
          "height": 134
        },
        "outputId": "86c5d247-5002-47b1-c979-a544ac033a1b"
      },
      "source": [
        "x_coord = np.arange(1024)\n",
        "y_coord = np.arange(768)\n",
        "X, Y = np.meshgrid(x_coord, y_coord)\n",
        "X"
      ],
      "execution_count": 84,
      "outputs": [
        {
          "output_type": "execute_result",
          "data": {
            "text/plain": [
              "array([[   0,    1,    2, ..., 1021, 1022, 1023],\n",
              "       [   0,    1,    2, ..., 1021, 1022, 1023],\n",
              "       [   0,    1,    2, ..., 1021, 1022, 1023],\n",
              "       ...,\n",
              "       [   0,    1,    2, ..., 1021, 1022, 1023],\n",
              "       [   0,    1,    2, ..., 1021, 1022, 1023],\n",
              "       [   0,    1,    2, ..., 1021, 1022, 1023]])"
            ]
          },
          "metadata": {
            "tags": []
          },
          "execution_count": 84
        }
      ]
    },
    {
      "cell_type": "code",
      "metadata": {
        "id": "y4_3YukZN6X9",
        "colab_type": "code",
        "colab": {
          "base_uri": "https://localhost:8080/",
          "height": 134
        },
        "outputId": "f0159423-574a-4c08-9baf-8d56391f64c6"
      },
      "source": [
        "Y"
      ],
      "execution_count": 85,
      "outputs": [
        {
          "output_type": "execute_result",
          "data": {
            "text/plain": [
              "array([[  0,   0,   0, ...,   0,   0,   0],\n",
              "       [  1,   1,   1, ...,   1,   1,   1],\n",
              "       [  2,   2,   2, ...,   2,   2,   2],\n",
              "       ...,\n",
              "       [765, 765, 765, ..., 765, 765, 765],\n",
              "       [766, 766, 766, ..., 766, 766, 766],\n",
              "       [767, 767, 767, ..., 767, 767, 767]])"
            ]
          },
          "metadata": {
            "tags": []
          },
          "execution_count": 85
        }
      ]
    },
    {
      "cell_type": "code",
      "metadata": {
        "id": "nF5jBGOHOBmo",
        "colab_type": "code",
        "colab": {
          "base_uri": "https://localhost:8080/",
          "height": 235
        },
        "outputId": "8b8aeade-ef2f-4996-b4dd-dcefa2c89528"
      },
      "source": [
        "data = np.sin(X*Y/40.5)\n",
        "data"
      ],
      "execution_count": 87,
      "outputs": [
        {
          "output_type": "execute_result",
          "data": {
            "text/plain": [
              "array([[0.        , 0.        , 0.        , ..., 0.        , 0.        ,\n",
              "        0.        ],\n",
              "       [0.        , 0.02468885, 0.04936265, ..., 0.07705885, 0.1016508 ,\n",
              "        0.12618078],\n",
              "       [0.        , 0.04936265, 0.09860494, ..., 0.15365943, 0.20224852,\n",
              "        0.25034449],\n",
              "       ...,\n",
              "       [0.        , 0.03932283, 0.07858482, ..., 0.6301488 , 0.59912825,\n",
              "        0.56718092],\n",
              "       [0.        , 0.06398059, 0.12769901, ..., 0.56844086, 0.51463783,\n",
              "        0.45872596],\n",
              "       [0.        , 0.08859936, 0.17650185, ..., 0.50335246, 0.42481591,\n",
              "        0.34293805]])"
            ]
          },
          "metadata": {
            "tags": []
          },
          "execution_count": 87
        }
      ]
    },
    {
      "cell_type": "code",
      "metadata": {
        "id": "3J00rZDAOHRg",
        "colab_type": "code",
        "colab": {
          "base_uri": "https://localhost:8080/",
          "height": 345
        },
        "outputId": "ec2d7906-787b-49e9-dd67-b8d04e5039aa"
      },
      "source": [
        "import matplotlib.pyplot as plt\n",
        "import matplotlib.cm as cm\n",
        "fig = plt.figure(1, figsize = (7, 6))\n",
        "plt.imshow(data, cmap = cm.hot, interpolation = \"bicubic\")\n",
        "plt.show()"
      ],
      "execution_count": 88,
      "outputs": [
        {
          "output_type": "display_data",
          "data": {
            "image/png": "[encoded data removed]",
            "text/plain": [
              "<Figure size 504x432 with 1 Axes>"
            ]
          },
          "metadata": {
            "tags": [],
            "needs_background": "light"
          }
        }
      ]
    }
  ]
}